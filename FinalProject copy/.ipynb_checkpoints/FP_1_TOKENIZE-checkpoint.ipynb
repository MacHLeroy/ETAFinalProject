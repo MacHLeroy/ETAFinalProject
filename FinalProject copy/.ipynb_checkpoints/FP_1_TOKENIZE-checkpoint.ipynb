{
 "cells": [
  {
   "cell_type": "markdown",
   "metadata": {},
   "source": [
    "# Metadata\n",
    "\n",
    "```\n",
    "Course:   DS 5001\n",
    "Module:   04 Lab\n",
    "Topic:    NLP and the Pipeline\n",
    "Author:   R.C. Alvarado\n",
    "\n",
    "Purpose:  We import a collection of texts and convert to F2. Then we annotate the collection to create an F3-level model.\n",
    "```"
   ]
  },
  {
   "cell_type": "markdown",
   "metadata": {
    "toc-hr-collapsed": true
   },
   "source": [
    "# Set Up"
   ]
  },
  {
   "cell_type": "code",
   "execution_count": 57,
   "metadata": {},
   "outputs": [],
   "source": [
    "import pandas as pd\n",
    "import numpy as np\n",
    "from glob import glob\n",
    "import re\n",
    "import nltk\n",
    "import seaborn as sns; sns.set()\n",
    "import plotly.express as px\n",
    "import os\n",
    "import re"
   ]
  },
  {
   "cell_type": "code",
   "execution_count": 70,
   "metadata": {},
   "outputs": [],
   "source": [
    "os.chdir('/Users/mackenzyeleroy/Documents/MSDS/DS5001/FinalProject')"
   ]
  },
  {
   "cell_type": "code",
   "execution_count": 71,
   "metadata": {},
   "outputs": [
    {
     "data": {
      "text/plain": [
       "'/Users/mackenzyeleroy/Documents/MSDS/DS5001/FinalProject'"
      ]
     },
     "execution_count": 71,
     "metadata": {},
     "output_type": "execute_result"
    }
   ],
   "source": [
    "home_dir = os.getcwd()\n",
    "home_dir"
   ]
  },
  {
   "cell_type": "code",
   "execution_count": 72,
   "metadata": {
    "colab": {},
    "colab_type": "code",
    "id": "MwrVU8kZDykb"
   },
   "outputs": [],
   "source": [
    "data_home = f\"{home_dir}/Data\"\n",
    "\n",
    "parser_lib = f\"{home_dir}/lib\"\n",
    "source_files = f'{data_home}/HGWellsAndJulesVerne'\n",
    "data_prefix = 'wells-verne'"
   ]
  },
  {
   "cell_type": "code",
   "execution_count": 73,
   "metadata": {
    "colab": {},
    "colab_type": "code",
    "id": "MwrVU8kZDykb"
   },
   "outputs": [],
   "source": [
    "OHCO = ['book_id', 'chap_num', 'para_num', 'sent_num', 'token_num']"
   ]
  },
  {
   "cell_type": "code",
   "execution_count": null,
   "metadata": {
    "colab": {},
    "colab_type": "code",
    "id": "MwrVU8kZDykb"
   },
   "outputs": [],
   "source": []
  },
  {
   "cell_type": "code",
   "execution_count": null,
   "metadata": {},
   "outputs": [],
   "source": []
  },
  {
   "cell_type": "code",
   "execution_count": 74,
   "metadata": {
    "colab": {},
    "colab_type": "code",
    "id": "MwrVU8kZDykb"
   },
   "outputs": [],
   "source": [
    "##import sys\n",
    "#sys.path.append(local_lib)"
   ]
  },
  {
   "cell_type": "code",
   "execution_count": 75,
   "metadata": {
    "colab": {},
    "colab_type": "code",
    "id": "MwrVU8kZDykb"
   },
   "outputs": [],
   "source": [
    "os.chdir(parser_lib)\n",
    "from textparser import TextParser\n",
    "os.chdir(home_dir)"
   ]
  },
  {
   "cell_type": "markdown",
   "metadata": {},
   "source": [
    "# Inspect\n",
    "\n",
    "Since Project Gutenberg texts vary widely in their markup, we define our chunking patterns by hand."
   ]
  },
  {
   "cell_type": "code",
   "execution_count": 76,
   "metadata": {},
   "outputs": [
    {
     "data": {
      "text/plain": [
       "[12163,\n",
       " 103,\n",
       " 1355,\n",
       " 1268,\n",
       " 164,\n",
       " 18857,\n",
       " 35,\n",
       " 36,\n",
       " 159,\n",
       " 1059,\n",
       " 718,\n",
       " 780,\n",
       " 1059,\n",
       " 3091,\n",
       " 5230,\n",
       " 6424,\n",
       " 16457,\n",
       " 44278,\n",
       " 1013,\n",
       " 6424,\n",
       " 3526,\n",
       " 1353]"
      ]
     },
     "execution_count": 76,
     "metadata": {},
     "output_type": "execute_result"
    }
   ],
   "source": [
    "clip_pats = [\n",
    "    r\"\\*\\*\\*\\s*START OF\",\n",
    "    r\"\\*\\*\\*\\s*END OF\"\n",
    "]\n",
    "\n",
    "# All are 'chap'and 'm'\n",
    "roman = '[IVXLCM]+'\n",
    "caps = \"[A-Z';, -]+\"\n",
    "ohco_pat_list = [\n",
    "    (12163,  rf\"^CHAPTER\\s+{roman}\"),\n",
    "    (103,    rf\"^\\s*CHAPTER\\s+{roman}\\.\"),\n",
    "    (1355,   rf\"^\\s*CHAPTER\\s+{roman}\\.\"),\n",
    "    (1268,   rf\"^Chapter\\s+\\d+$\"),\n",
    "    (164,    rf\"^CHAPTER\\s+\\d+$\"),\n",
    "    (18857,  rf\"^CHAPTER\\s+\\d+$\"),\n",
    "    (35,     rf\"^\\s*CHAPTER\\s+[{roman}\\.\"),\n",
    "    (36,     rf\"^\\s*CHAPTER\\s+{roman}\\.\"),\n",
    "    (159,    rf\"(INTRODUCTION.)|^\\s*CHAPTER\\s+{roman}\\.\"),   \n",
    "    (1059,   rf\"^\\s*CHAPTER\\s+{roman}\\.\"),   \n",
    "    (718,    rf\"^\\s*CHAPTER\\sTHE\\s{caps}\"),\n",
    "    (780,    rf\"^\\s*CHAPTER\\s+{roman}\\.\"),\n",
    "    (1059,   rf\"^\\s*CHAPTER\\sTHE\\s{caps}\"),\n",
    "    (3091,   rf\"^\\s*CHAPTER\\s+{roman}\\.\"),    \n",
    "    (5230,   rf\"^\\s*CHAPTER\\s+{roman}\\.\"),\n",
    "    (6424,   rf\"(THE OWNER OF THE VOICE)|(APPENDIX)|(^\\s*CHAPTER\\sTHE\\s{caps})\"),\n",
    "    (16457,   rf\"^\\s*CHAPTER\\s+{roman}\\.\"),\n",
    "    (44278,   rf\"^\\s*CHAPTER\\s+{roman}\\.\"),  \n",
    "    (1013,   rf\"^\\s*CHAPTER\\s+{roman}\\.\"),\n",
    "    (6424,   rf\"^\\s*CHAPTER\\sTHE\\s{caps}\"),\n",
    "    (3526,   rf\"^\\s*CHAPTER\\s+{caps}\\.\"),\n",
    "    (1353,   rf\"^\\s*CHAPTER\\s+{roman}\\.\")\n",
    "    \n",
    "   \n",
    "]\n",
    "easy_books = [x[0] for x in ohco_pat_list]\n",
    "easy_books"
   ]
  },
  {
   "cell_type": "code",
   "execution_count": null,
   "metadata": {},
   "outputs": [],
   "source": [
    "  "
   ]
  },
  {
   "cell_type": "code",
   "execution_count": 77,
   "metadata": {},
   "outputs": [
    {
     "data": {
      "text/plain": [
       "[(12163, '^CHAPTER\\\\s+[IVXLCM]+'),\n",
       " (103, '^\\\\s*CHAPTER\\\\s+[IVXLCM]+\\\\.'),\n",
       " (1355, '^\\\\s*CHAPTER\\\\s+[IVXLCM]+\\\\.'),\n",
       " (1268, '^Chapter\\\\s+\\\\d+$'),\n",
       " (164, '^CHAPTER\\\\s+\\\\d+$'),\n",
       " (18857, '^CHAPTER\\\\s+\\\\d+$'),\n",
       " (35, '^\\\\s*CHAPTER\\\\s+[[IVXLCM]+\\\\.'),\n",
       " (36, '^\\\\s*CHAPTER\\\\s+[IVXLCM]+\\\\.'),\n",
       " (159, '(INTRODUCTION.)|^\\\\s*CHAPTER\\\\s+[IVXLCM]+\\\\.'),\n",
       " (1059, '^\\\\s*CHAPTER\\\\s+[IVXLCM]+\\\\.'),\n",
       " (718, \"^\\\\s*CHAPTER\\\\sTHE\\\\s[A-Z';, -]+\"),\n",
       " (780, '^\\\\s*CHAPTER\\\\s+[IVXLCM]+\\\\.'),\n",
       " (1059, \"^\\\\s*CHAPTER\\\\sTHE\\\\s[A-Z';, -]+\"),\n",
       " (3091, '^\\\\s*CHAPTER\\\\s+[IVXLCM]+\\\\.'),\n",
       " (5230, '^\\\\s*CHAPTER\\\\s+[IVXLCM]+\\\\.'),\n",
       " (6424,\n",
       "  \"(THE OWNER OF THE VOICE)|(APPENDIX)|(^\\\\s*CHAPTER\\\\sTHE\\\\s[A-Z';, -]+)\"),\n",
       " (16457, '^\\\\s*CHAPTER\\\\s+[IVXLCM]+\\\\.'),\n",
       " (44278, '^\\\\s*CHAPTER\\\\s+[IVXLCM]+\\\\.'),\n",
       " (1013, '^\\\\s*CHAPTER\\\\s+[IVXLCM]+\\\\.'),\n",
       " (6424, \"^\\\\s*CHAPTER\\\\sTHE\\\\s[A-Z';, -]+\"),\n",
       " (3526, \"^\\\\s*CHAPTER\\\\s+[A-Z';, -]+\\\\.\"),\n",
       " (1353, '^\\\\s*CHAPTER\\\\s+[IVXLCM]+\\\\.')]"
      ]
     },
     "execution_count": 77,
     "metadata": {},
     "output_type": "execute_result"
    }
   ],
   "source": [
    "ohco_pat_list "
   ]
  },
  {
   "cell_type": "code",
   "execution_count": 78,
   "metadata": {},
   "outputs": [
    {
     "data": {
      "text/plain": [
       "['\\\\*\\\\*\\\\*\\\\s*START OF', '\\\\*\\\\*\\\\*\\\\s*END OF']"
      ]
     },
     "execution_count": 78,
     "metadata": {},
     "output_type": "execute_result"
    }
   ],
   "source": [
    "clip_pats"
   ]
  },
  {
   "cell_type": "markdown",
   "metadata": {},
   "source": [
    "# Register\n",
    "\n",
    "We get each file and add to a library `LIB`."
   ]
  },
  {
   "cell_type": "code",
   "execution_count": 79,
   "metadata": {},
   "outputs": [
    {
     "data": {
      "text/plain": [
       "'/Users/mackenzyeleroy/Documents/MSDS/DS5001/FinalProject'"
      ]
     },
     "execution_count": 79,
     "metadata": {},
     "output_type": "execute_result"
    }
   ],
   "source": [
    "os.getcwd()"
   ]
  },
  {
   "cell_type": "code",
   "execution_count": 80,
   "metadata": {},
   "outputs": [],
   "source": [
    "os.chdir(source_files)"
   ]
  },
  {
   "cell_type": "code",
   "execution_count": 81,
   "metadata": {},
   "outputs": [],
   "source": [
    "\n",
    "\n",
    "source_file_list = sorted(os.listdir())"
   ]
  },
  {
   "cell_type": "code",
   "execution_count": 82,
   "metadata": {},
   "outputs": [],
   "source": [
    "source_file_list = source_file_list[3:]"
   ]
  },
  {
   "cell_type": "code",
   "execution_count": 83,
   "metadata": {},
   "outputs": [
    {
     "name": "stdout",
     "output_type": "stream",
     "text": [
      "20\n"
     ]
    },
    {
     "data": {
      "text/plain": [
       "['VERNE__103__Around_the_World_in_Eighty_Days.txt',\n",
       " 'VERNE__1268__The_Mysterious_Island.txt',\n",
       " 'VERNE__1353__Off_on_a_Comet!.txt',\n",
       " 'VERNE__1355__The_Underground_City.txt',\n",
       " 'VERNE__16457__All_Around_the_Moon.txt',\n",
       " 'VERNE__164__Twenty_Thousand_Leagues_under_the_Sea.txt',\n",
       " 'VERNE__18857__A_Journey_to_the_Centre_of_the_Earth.txt',\n",
       " 'VERNE__3091__Eight_Hundred_Leagues_on_the_Amazon.txt',\n",
       " 'VERNE__3526__Five_Weeks_in_a_Balloon.txt',\n",
       " 'VERNE__44278__From_the_Earth_to_the_Moon.txt',\n",
       " 'WELLS__1013__The_First_Men_in_the_Moon.txt',\n",
       " 'WELLS__1059__The_World_Set_Free.txt',\n",
       " 'WELLS__12163__The_Sleeper_Awakes.txt',\n",
       " 'WELLS__159__The_Island_of_Doctor_Moreau.txt',\n",
       " 'WELLS__35__The_Time_Machine.txt',\n",
       " 'WELLS__36__The_War_of_the_Worlds.txt',\n",
       " 'WELLS__5230__The_Invisible_Man_A_Grotesque_Romance.txt',\n",
       " 'WELLS__6424__A_Modern_Utopia.txt',\n",
       " 'WELLS__718__Tono-Bungay.txt',\n",
       " 'WELLS__780__The_War_in_the_Air.txt']"
      ]
     },
     "execution_count": 83,
     "metadata": {},
     "output_type": "execute_result"
    }
   ],
   "source": [
    "print(len(source_file_list))\n",
    "source_file_list"
   ]
  },
  {
   "cell_type": "code",
   "execution_count": 84,
   "metadata": {},
   "outputs": [
    {
     "data": {
      "text/plain": [
       "[(103,\n",
       "  'VERNE__103__Around_the_World_in_Eighty_Days.txt',\n",
       "  'Around the World in Eighty Days',\n",
       "  'VERNE'),\n",
       " (1268,\n",
       "  'VERNE__1268__The_Mysterious_Island.txt',\n",
       "  'The Mysterious Island',\n",
       "  'VERNE'),\n",
       " (1353, 'VERNE__1353__Off_on_a_Comet!.txt', 'Off on a Comet!', 'VERNE'),\n",
       " (1355,\n",
       "  'VERNE__1355__The_Underground_City.txt',\n",
       "  'The Underground City',\n",
       "  'VERNE'),\n",
       " (16457,\n",
       "  'VERNE__16457__All_Around_the_Moon.txt',\n",
       "  'All Around the Moon',\n",
       "  'VERNE'),\n",
       " (164,\n",
       "  'VERNE__164__Twenty_Thousand_Leagues_under_the_Sea.txt',\n",
       "  'Twenty Thousand Leagues under the Sea',\n",
       "  'VERNE'),\n",
       " (18857,\n",
       "  'VERNE__18857__A_Journey_to_the_Centre_of_the_Earth.txt',\n",
       "  'A Journey to the Centre of the Earth',\n",
       "  'VERNE'),\n",
       " (3091,\n",
       "  'VERNE__3091__Eight_Hundred_Leagues_on_the_Amazon.txt',\n",
       "  'Eight Hundred Leagues on the Amazon',\n",
       "  'VERNE'),\n",
       " (3526,\n",
       "  'VERNE__3526__Five_Weeks_in_a_Balloon.txt',\n",
       "  'Five Weeks in a Balloon',\n",
       "  'VERNE'),\n",
       " (44278,\n",
       "  'VERNE__44278__From_the_Earth_to_the_Moon.txt',\n",
       "  'From the Earth to the Moon',\n",
       "  'VERNE'),\n",
       " (1013,\n",
       "  'WELLS__1013__The_First_Men_in_the_Moon.txt',\n",
       "  'The First Men in the Moon',\n",
       "  'WELLS'),\n",
       " (1059, 'WELLS__1059__The_World_Set_Free.txt', 'The World Set Free', 'WELLS'),\n",
       " (12163,\n",
       "  'WELLS__12163__The_Sleeper_Awakes.txt',\n",
       "  'The Sleeper Awakes',\n",
       "  'WELLS'),\n",
       " (159,\n",
       "  'WELLS__159__The_Island_of_Doctor_Moreau.txt',\n",
       "  'The Island of Doctor Moreau',\n",
       "  'WELLS'),\n",
       " (35, 'WELLS__35__The_Time_Machine.txt', 'The Time Machine', 'WELLS'),\n",
       " (36,\n",
       "  'WELLS__36__The_War_of_the_Worlds.txt',\n",
       "  'The War of the Worlds',\n",
       "  'WELLS'),\n",
       " (5230,\n",
       "  'WELLS__5230__The_Invisible_Man_A_Grotesque_Romance.txt',\n",
       "  'The Invisible Man A Grotesque Romance',\n",
       "  'WELLS'),\n",
       " (6424, 'WELLS__6424__A_Modern_Utopia.txt', 'A Modern Utopia', 'WELLS'),\n",
       " (718, 'WELLS__718__Tono-Bungay.txt', 'Tono-Bungay', 'WELLS'),\n",
       " (780, 'WELLS__780__The_War_in_the_Air.txt', 'The War in the Air', 'WELLS')]"
      ]
     },
     "execution_count": 84,
     "metadata": {},
     "output_type": "execute_result"
    }
   ],
   "source": [
    "book_data = []\n",
    "for source_file_path in source_file_list:\n",
    "    book_author = source_file_path.split('__')[0]\n",
    "    book_id = int(source_file_path.split('__')[1])\n",
    "    book_title = source_file_path.split('__')[2].split('.')[0].replace('_', ' ')\n",
    "    book_data.append((book_id, source_file_path, book_title, book_author))\n",
    "book_data"
   ]
  },
  {
   "cell_type": "code",
   "execution_count": 85,
   "metadata": {},
   "outputs": [],
   "source": [
    "LIB = pd.DataFrame(book_data, columns=['book_id','source_file_path','title', \"author\"])\\\n",
    "    .set_index('book_id').sort_index()"
   ]
  },
  {
   "cell_type": "code",
   "execution_count": 86,
   "metadata": {},
   "outputs": [],
   "source": [
    "LIB['author'] = LIB.author.replace({'WELLS': 'WELLS, H.G', 'VERNE': 'VERNE, JULES'})"
   ]
  },
  {
   "cell_type": "code",
   "execution_count": 87,
   "metadata": {},
   "outputs": [
    {
     "data": {
      "text/html": [
       "<div>\n",
       "<style scoped>\n",
       "    .dataframe tbody tr th:only-of-type {\n",
       "        vertical-align: middle;\n",
       "    }\n",
       "\n",
       "    .dataframe tbody tr th {\n",
       "        vertical-align: top;\n",
       "    }\n",
       "\n",
       "    .dataframe thead th {\n",
       "        text-align: right;\n",
       "    }\n",
       "</style>\n",
       "<table border=\"1\" class=\"dataframe\">\n",
       "  <thead>\n",
       "    <tr style=\"text-align: right;\">\n",
       "      <th></th>\n",
       "      <th>source_file_path</th>\n",
       "      <th>title</th>\n",
       "      <th>author</th>\n",
       "    </tr>\n",
       "    <tr>\n",
       "      <th>book_id</th>\n",
       "      <th></th>\n",
       "      <th></th>\n",
       "      <th></th>\n",
       "    </tr>\n",
       "  </thead>\n",
       "  <tbody>\n",
       "    <tr>\n",
       "      <th>35</th>\n",
       "      <td>WELLS__35__The_Time_Machine.txt</td>\n",
       "      <td>The Time Machine</td>\n",
       "      <td>WELLS, H.G</td>\n",
       "    </tr>\n",
       "    <tr>\n",
       "      <th>36</th>\n",
       "      <td>WELLS__36__The_War_of_the_Worlds.txt</td>\n",
       "      <td>The War of the Worlds</td>\n",
       "      <td>WELLS, H.G</td>\n",
       "    </tr>\n",
       "    <tr>\n",
       "      <th>103</th>\n",
       "      <td>VERNE__103__Around_the_World_in_Eighty_Days.txt</td>\n",
       "      <td>Around the World in Eighty Days</td>\n",
       "      <td>VERNE, JULES</td>\n",
       "    </tr>\n",
       "    <tr>\n",
       "      <th>159</th>\n",
       "      <td>WELLS__159__The_Island_of_Doctor_Moreau.txt</td>\n",
       "      <td>The Island of Doctor Moreau</td>\n",
       "      <td>WELLS, H.G</td>\n",
       "    </tr>\n",
       "    <tr>\n",
       "      <th>164</th>\n",
       "      <td>VERNE__164__Twenty_Thousand_Leagues_under_the_...</td>\n",
       "      <td>Twenty Thousand Leagues under the Sea</td>\n",
       "      <td>VERNE, JULES</td>\n",
       "    </tr>\n",
       "    <tr>\n",
       "      <th>718</th>\n",
       "      <td>WELLS__718__Tono-Bungay.txt</td>\n",
       "      <td>Tono-Bungay</td>\n",
       "      <td>WELLS, H.G</td>\n",
       "    </tr>\n",
       "    <tr>\n",
       "      <th>780</th>\n",
       "      <td>WELLS__780__The_War_in_the_Air.txt</td>\n",
       "      <td>The War in the Air</td>\n",
       "      <td>WELLS, H.G</td>\n",
       "    </tr>\n",
       "    <tr>\n",
       "      <th>1013</th>\n",
       "      <td>WELLS__1013__The_First_Men_in_the_Moon.txt</td>\n",
       "      <td>The First Men in the Moon</td>\n",
       "      <td>WELLS, H.G</td>\n",
       "    </tr>\n",
       "    <tr>\n",
       "      <th>1059</th>\n",
       "      <td>WELLS__1059__The_World_Set_Free.txt</td>\n",
       "      <td>The World Set Free</td>\n",
       "      <td>WELLS, H.G</td>\n",
       "    </tr>\n",
       "    <tr>\n",
       "      <th>1268</th>\n",
       "      <td>VERNE__1268__The_Mysterious_Island.txt</td>\n",
       "      <td>The Mysterious Island</td>\n",
       "      <td>VERNE, JULES</td>\n",
       "    </tr>\n",
       "    <tr>\n",
       "      <th>1353</th>\n",
       "      <td>VERNE__1353__Off_on_a_Comet!.txt</td>\n",
       "      <td>Off on a Comet!</td>\n",
       "      <td>VERNE, JULES</td>\n",
       "    </tr>\n",
       "    <tr>\n",
       "      <th>1355</th>\n",
       "      <td>VERNE__1355__The_Underground_City.txt</td>\n",
       "      <td>The Underground City</td>\n",
       "      <td>VERNE, JULES</td>\n",
       "    </tr>\n",
       "    <tr>\n",
       "      <th>3091</th>\n",
       "      <td>VERNE__3091__Eight_Hundred_Leagues_on_the_Amaz...</td>\n",
       "      <td>Eight Hundred Leagues on the Amazon</td>\n",
       "      <td>VERNE, JULES</td>\n",
       "    </tr>\n",
       "    <tr>\n",
       "      <th>3526</th>\n",
       "      <td>VERNE__3526__Five_Weeks_in_a_Balloon.txt</td>\n",
       "      <td>Five Weeks in a Balloon</td>\n",
       "      <td>VERNE, JULES</td>\n",
       "    </tr>\n",
       "    <tr>\n",
       "      <th>5230</th>\n",
       "      <td>WELLS__5230__The_Invisible_Man_A_Grotesque_Rom...</td>\n",
       "      <td>The Invisible Man A Grotesque Romance</td>\n",
       "      <td>WELLS, H.G</td>\n",
       "    </tr>\n",
       "    <tr>\n",
       "      <th>6424</th>\n",
       "      <td>WELLS__6424__A_Modern_Utopia.txt</td>\n",
       "      <td>A Modern Utopia</td>\n",
       "      <td>WELLS, H.G</td>\n",
       "    </tr>\n",
       "    <tr>\n",
       "      <th>12163</th>\n",
       "      <td>WELLS__12163__The_Sleeper_Awakes.txt</td>\n",
       "      <td>The Sleeper Awakes</td>\n",
       "      <td>WELLS, H.G</td>\n",
       "    </tr>\n",
       "    <tr>\n",
       "      <th>16457</th>\n",
       "      <td>VERNE__16457__All_Around_the_Moon.txt</td>\n",
       "      <td>All Around the Moon</td>\n",
       "      <td>VERNE, JULES</td>\n",
       "    </tr>\n",
       "    <tr>\n",
       "      <th>18857</th>\n",
       "      <td>VERNE__18857__A_Journey_to_the_Centre_of_the_E...</td>\n",
       "      <td>A Journey to the Centre of the Earth</td>\n",
       "      <td>VERNE, JULES</td>\n",
       "    </tr>\n",
       "    <tr>\n",
       "      <th>44278</th>\n",
       "      <td>VERNE__44278__From_the_Earth_to_the_Moon.txt</td>\n",
       "      <td>From the Earth to the Moon</td>\n",
       "      <td>VERNE, JULES</td>\n",
       "    </tr>\n",
       "  </tbody>\n",
       "</table>\n",
       "</div>"
      ],
      "text/plain": [
       "                                          source_file_path  \\\n",
       "book_id                                                      \n",
       "35                         WELLS__35__The_Time_Machine.txt   \n",
       "36                    WELLS__36__The_War_of_the_Worlds.txt   \n",
       "103        VERNE__103__Around_the_World_in_Eighty_Days.txt   \n",
       "159            WELLS__159__The_Island_of_Doctor_Moreau.txt   \n",
       "164      VERNE__164__Twenty_Thousand_Leagues_under_the_...   \n",
       "718                            WELLS__718__Tono-Bungay.txt   \n",
       "780                     WELLS__780__The_War_in_the_Air.txt   \n",
       "1013            WELLS__1013__The_First_Men_in_the_Moon.txt   \n",
       "1059                   WELLS__1059__The_World_Set_Free.txt   \n",
       "1268                VERNE__1268__The_Mysterious_Island.txt   \n",
       "1353                      VERNE__1353__Off_on_a_Comet!.txt   \n",
       "1355                 VERNE__1355__The_Underground_City.txt   \n",
       "3091     VERNE__3091__Eight_Hundred_Leagues_on_the_Amaz...   \n",
       "3526              VERNE__3526__Five_Weeks_in_a_Balloon.txt   \n",
       "5230     WELLS__5230__The_Invisible_Man_A_Grotesque_Rom...   \n",
       "6424                      WELLS__6424__A_Modern_Utopia.txt   \n",
       "12163                 WELLS__12163__The_Sleeper_Awakes.txt   \n",
       "16457                VERNE__16457__All_Around_the_Moon.txt   \n",
       "18857    VERNE__18857__A_Journey_to_the_Centre_of_the_E...   \n",
       "44278         VERNE__44278__From_the_Earth_to_the_Moon.txt   \n",
       "\n",
       "                                         title        author  \n",
       "book_id                                                       \n",
       "35                            The Time Machine    WELLS, H.G  \n",
       "36                       The War of the Worlds    WELLS, H.G  \n",
       "103            Around the World in Eighty Days  VERNE, JULES  \n",
       "159                The Island of Doctor Moreau    WELLS, H.G  \n",
       "164      Twenty Thousand Leagues under the Sea  VERNE, JULES  \n",
       "718                                Tono-Bungay    WELLS, H.G  \n",
       "780                         The War in the Air    WELLS, H.G  \n",
       "1013                 The First Men in the Moon    WELLS, H.G  \n",
       "1059                        The World Set Free    WELLS, H.G  \n",
       "1268                     The Mysterious Island  VERNE, JULES  \n",
       "1353                           Off on a Comet!  VERNE, JULES  \n",
       "1355                      The Underground City  VERNE, JULES  \n",
       "3091       Eight Hundred Leagues on the Amazon  VERNE, JULES  \n",
       "3526                   Five Weeks in a Balloon  VERNE, JULES  \n",
       "5230     The Invisible Man A Grotesque Romance    WELLS, H.G  \n",
       "6424                           A Modern Utopia    WELLS, H.G  \n",
       "12163                       The Sleeper Awakes    WELLS, H.G  \n",
       "16457                      All Around the Moon  VERNE, JULES  \n",
       "18857     A Journey to the Centre of the Earth  VERNE, JULES  \n",
       "44278               From the Earth to the Moon  VERNE, JULES  "
      ]
     },
     "execution_count": 87,
     "metadata": {},
     "output_type": "execute_result"
    }
   ],
   "source": [
    "LIB"
   ]
  },
  {
   "cell_type": "markdown",
   "metadata": {},
   "source": [
    "## Save Chapter regexes"
   ]
  },
  {
   "cell_type": "code",
   "execution_count": 88,
   "metadata": {},
   "outputs": [
    {
     "data": {
      "text/html": [
       "<div>\n",
       "<style scoped>\n",
       "    .dataframe tbody tr th:only-of-type {\n",
       "        vertical-align: middle;\n",
       "    }\n",
       "\n",
       "    .dataframe tbody tr th {\n",
       "        vertical-align: top;\n",
       "    }\n",
       "\n",
       "    .dataframe thead th {\n",
       "        text-align: right;\n",
       "    }\n",
       "</style>\n",
       "<table border=\"1\" class=\"dataframe\">\n",
       "  <thead>\n",
       "    <tr style=\"text-align: right;\">\n",
       "      <th></th>\n",
       "      <th>source_file_path</th>\n",
       "      <th>title</th>\n",
       "      <th>author</th>\n",
       "      <th>chap_regex</th>\n",
       "    </tr>\n",
       "    <tr>\n",
       "      <th>book_id</th>\n",
       "      <th></th>\n",
       "      <th></th>\n",
       "      <th></th>\n",
       "      <th></th>\n",
       "    </tr>\n",
       "  </thead>\n",
       "  <tbody>\n",
       "    <tr>\n",
       "      <th>35</th>\n",
       "      <td>WELLS__35__The_Time_Machine.txt</td>\n",
       "      <td>The Time Machine</td>\n",
       "      <td>WELLS, H.G</td>\n",
       "      <td>^\\s*CHAPTER\\s+[[IVXLCM]+\\.</td>\n",
       "    </tr>\n",
       "    <tr>\n",
       "      <th>36</th>\n",
       "      <td>WELLS__36__The_War_of_the_Worlds.txt</td>\n",
       "      <td>The War of the Worlds</td>\n",
       "      <td>WELLS, H.G</td>\n",
       "      <td>^\\s*CHAPTER\\s+[IVXLCM]+\\.</td>\n",
       "    </tr>\n",
       "    <tr>\n",
       "      <th>103</th>\n",
       "      <td>VERNE__103__Around_the_World_in_Eighty_Days.txt</td>\n",
       "      <td>Around the World in Eighty Days</td>\n",
       "      <td>VERNE, JULES</td>\n",
       "      <td>^\\s*CHAPTER\\s+[IVXLCM]+\\.</td>\n",
       "    </tr>\n",
       "    <tr>\n",
       "      <th>159</th>\n",
       "      <td>WELLS__159__The_Island_of_Doctor_Moreau.txt</td>\n",
       "      <td>The Island of Doctor Moreau</td>\n",
       "      <td>WELLS, H.G</td>\n",
       "      <td>(INTRODUCTION.)|^\\s*CHAPTER\\s+[IVXLCM]+\\.</td>\n",
       "    </tr>\n",
       "    <tr>\n",
       "      <th>164</th>\n",
       "      <td>VERNE__164__Twenty_Thousand_Leagues_under_the_...</td>\n",
       "      <td>Twenty Thousand Leagues under the Sea</td>\n",
       "      <td>VERNE, JULES</td>\n",
       "      <td>^CHAPTER\\s+\\d+$</td>\n",
       "    </tr>\n",
       "    <tr>\n",
       "      <th>718</th>\n",
       "      <td>WELLS__718__Tono-Bungay.txt</td>\n",
       "      <td>Tono-Bungay</td>\n",
       "      <td>WELLS, H.G</td>\n",
       "      <td>^\\s*CHAPTER\\sTHE\\s[A-Z';, -]+</td>\n",
       "    </tr>\n",
       "    <tr>\n",
       "      <th>780</th>\n",
       "      <td>WELLS__780__The_War_in_the_Air.txt</td>\n",
       "      <td>The War in the Air</td>\n",
       "      <td>WELLS, H.G</td>\n",
       "      <td>^\\s*CHAPTER\\s+[IVXLCM]+\\.</td>\n",
       "    </tr>\n",
       "    <tr>\n",
       "      <th>1013</th>\n",
       "      <td>WELLS__1013__The_First_Men_in_the_Moon.txt</td>\n",
       "      <td>The First Men in the Moon</td>\n",
       "      <td>WELLS, H.G</td>\n",
       "      <td>^\\s*CHAPTER\\s+[IVXLCM]+\\.</td>\n",
       "    </tr>\n",
       "    <tr>\n",
       "      <th>1059</th>\n",
       "      <td>WELLS__1059__The_World_Set_Free.txt</td>\n",
       "      <td>The World Set Free</td>\n",
       "      <td>WELLS, H.G</td>\n",
       "      <td>^\\s*CHAPTER\\sTHE\\s[A-Z';, -]+</td>\n",
       "    </tr>\n",
       "    <tr>\n",
       "      <th>1268</th>\n",
       "      <td>VERNE__1268__The_Mysterious_Island.txt</td>\n",
       "      <td>The Mysterious Island</td>\n",
       "      <td>VERNE, JULES</td>\n",
       "      <td>^Chapter\\s+\\d+$</td>\n",
       "    </tr>\n",
       "    <tr>\n",
       "      <th>1353</th>\n",
       "      <td>VERNE__1353__Off_on_a_Comet!.txt</td>\n",
       "      <td>Off on a Comet!</td>\n",
       "      <td>VERNE, JULES</td>\n",
       "      <td>^\\s*CHAPTER\\s+[IVXLCM]+\\.</td>\n",
       "    </tr>\n",
       "    <tr>\n",
       "      <th>1355</th>\n",
       "      <td>VERNE__1355__The_Underground_City.txt</td>\n",
       "      <td>The Underground City</td>\n",
       "      <td>VERNE, JULES</td>\n",
       "      <td>^\\s*CHAPTER\\s+[IVXLCM]+\\.</td>\n",
       "    </tr>\n",
       "    <tr>\n",
       "      <th>3091</th>\n",
       "      <td>VERNE__3091__Eight_Hundred_Leagues_on_the_Amaz...</td>\n",
       "      <td>Eight Hundred Leagues on the Amazon</td>\n",
       "      <td>VERNE, JULES</td>\n",
       "      <td>^\\s*CHAPTER\\s+[IVXLCM]+\\.</td>\n",
       "    </tr>\n",
       "    <tr>\n",
       "      <th>3526</th>\n",
       "      <td>VERNE__3526__Five_Weeks_in_a_Balloon.txt</td>\n",
       "      <td>Five Weeks in a Balloon</td>\n",
       "      <td>VERNE, JULES</td>\n",
       "      <td>^\\s*CHAPTER\\s+[A-Z';, -]+\\.</td>\n",
       "    </tr>\n",
       "    <tr>\n",
       "      <th>5230</th>\n",
       "      <td>WELLS__5230__The_Invisible_Man_A_Grotesque_Rom...</td>\n",
       "      <td>The Invisible Man A Grotesque Romance</td>\n",
       "      <td>WELLS, H.G</td>\n",
       "      <td>^\\s*CHAPTER\\s+[IVXLCM]+\\.</td>\n",
       "    </tr>\n",
       "    <tr>\n",
       "      <th>6424</th>\n",
       "      <td>WELLS__6424__A_Modern_Utopia.txt</td>\n",
       "      <td>A Modern Utopia</td>\n",
       "      <td>WELLS, H.G</td>\n",
       "      <td>^\\s*CHAPTER\\sTHE\\s[A-Z';, -]+</td>\n",
       "    </tr>\n",
       "    <tr>\n",
       "      <th>12163</th>\n",
       "      <td>WELLS__12163__The_Sleeper_Awakes.txt</td>\n",
       "      <td>The Sleeper Awakes</td>\n",
       "      <td>WELLS, H.G</td>\n",
       "      <td>^CHAPTER\\s+[IVXLCM]+</td>\n",
       "    </tr>\n",
       "    <tr>\n",
       "      <th>16457</th>\n",
       "      <td>VERNE__16457__All_Around_the_Moon.txt</td>\n",
       "      <td>All Around the Moon</td>\n",
       "      <td>VERNE, JULES</td>\n",
       "      <td>^\\s*CHAPTER\\s+[IVXLCM]+\\.</td>\n",
       "    </tr>\n",
       "    <tr>\n",
       "      <th>18857</th>\n",
       "      <td>VERNE__18857__A_Journey_to_the_Centre_of_the_E...</td>\n",
       "      <td>A Journey to the Centre of the Earth</td>\n",
       "      <td>VERNE, JULES</td>\n",
       "      <td>^CHAPTER\\s+\\d+$</td>\n",
       "    </tr>\n",
       "    <tr>\n",
       "      <th>44278</th>\n",
       "      <td>VERNE__44278__From_the_Earth_to_the_Moon.txt</td>\n",
       "      <td>From the Earth to the Moon</td>\n",
       "      <td>VERNE, JULES</td>\n",
       "      <td>^\\s*CHAPTER\\s+[IVXLCM]+\\.</td>\n",
       "    </tr>\n",
       "  </tbody>\n",
       "</table>\n",
       "</div>"
      ],
      "text/plain": [
       "                                          source_file_path  \\\n",
       "book_id                                                      \n",
       "35                         WELLS__35__The_Time_Machine.txt   \n",
       "36                    WELLS__36__The_War_of_the_Worlds.txt   \n",
       "103        VERNE__103__Around_the_World_in_Eighty_Days.txt   \n",
       "159            WELLS__159__The_Island_of_Doctor_Moreau.txt   \n",
       "164      VERNE__164__Twenty_Thousand_Leagues_under_the_...   \n",
       "718                            WELLS__718__Tono-Bungay.txt   \n",
       "780                     WELLS__780__The_War_in_the_Air.txt   \n",
       "1013            WELLS__1013__The_First_Men_in_the_Moon.txt   \n",
       "1059                   WELLS__1059__The_World_Set_Free.txt   \n",
       "1268                VERNE__1268__The_Mysterious_Island.txt   \n",
       "1353                      VERNE__1353__Off_on_a_Comet!.txt   \n",
       "1355                 VERNE__1355__The_Underground_City.txt   \n",
       "3091     VERNE__3091__Eight_Hundred_Leagues_on_the_Amaz...   \n",
       "3526              VERNE__3526__Five_Weeks_in_a_Balloon.txt   \n",
       "5230     WELLS__5230__The_Invisible_Man_A_Grotesque_Rom...   \n",
       "6424                      WELLS__6424__A_Modern_Utopia.txt   \n",
       "12163                 WELLS__12163__The_Sleeper_Awakes.txt   \n",
       "16457                VERNE__16457__All_Around_the_Moon.txt   \n",
       "18857    VERNE__18857__A_Journey_to_the_Centre_of_the_E...   \n",
       "44278         VERNE__44278__From_the_Earth_to_the_Moon.txt   \n",
       "\n",
       "                                         title        author  \\\n",
       "book_id                                                        \n",
       "35                            The Time Machine    WELLS, H.G   \n",
       "36                       The War of the Worlds    WELLS, H.G   \n",
       "103            Around the World in Eighty Days  VERNE, JULES   \n",
       "159                The Island of Doctor Moreau    WELLS, H.G   \n",
       "164      Twenty Thousand Leagues under the Sea  VERNE, JULES   \n",
       "718                                Tono-Bungay    WELLS, H.G   \n",
       "780                         The War in the Air    WELLS, H.G   \n",
       "1013                 The First Men in the Moon    WELLS, H.G   \n",
       "1059                        The World Set Free    WELLS, H.G   \n",
       "1268                     The Mysterious Island  VERNE, JULES   \n",
       "1353                           Off on a Comet!  VERNE, JULES   \n",
       "1355                      The Underground City  VERNE, JULES   \n",
       "3091       Eight Hundred Leagues on the Amazon  VERNE, JULES   \n",
       "3526                   Five Weeks in a Balloon  VERNE, JULES   \n",
       "5230     The Invisible Man A Grotesque Romance    WELLS, H.G   \n",
       "6424                           A Modern Utopia    WELLS, H.G   \n",
       "12163                       The Sleeper Awakes    WELLS, H.G   \n",
       "16457                      All Around the Moon  VERNE, JULES   \n",
       "18857     A Journey to the Centre of the Earth  VERNE, JULES   \n",
       "44278               From the Earth to the Moon  VERNE, JULES   \n",
       "\n",
       "                                        chap_regex  \n",
       "book_id                                             \n",
       "35                      ^\\s*CHAPTER\\s+[[IVXLCM]+\\.  \n",
       "36                       ^\\s*CHAPTER\\s+[IVXLCM]+\\.  \n",
       "103                      ^\\s*CHAPTER\\s+[IVXLCM]+\\.  \n",
       "159      (INTRODUCTION.)|^\\s*CHAPTER\\s+[IVXLCM]+\\.  \n",
       "164                                ^CHAPTER\\s+\\d+$  \n",
       "718                  ^\\s*CHAPTER\\sTHE\\s[A-Z';, -]+  \n",
       "780                      ^\\s*CHAPTER\\s+[IVXLCM]+\\.  \n",
       "1013                     ^\\s*CHAPTER\\s+[IVXLCM]+\\.  \n",
       "1059                 ^\\s*CHAPTER\\sTHE\\s[A-Z';, -]+  \n",
       "1268                               ^Chapter\\s+\\d+$  \n",
       "1353                     ^\\s*CHAPTER\\s+[IVXLCM]+\\.  \n",
       "1355                     ^\\s*CHAPTER\\s+[IVXLCM]+\\.  \n",
       "3091                     ^\\s*CHAPTER\\s+[IVXLCM]+\\.  \n",
       "3526                   ^\\s*CHAPTER\\s+[A-Z';, -]+\\.  \n",
       "5230                     ^\\s*CHAPTER\\s+[IVXLCM]+\\.  \n",
       "6424                 ^\\s*CHAPTER\\sTHE\\s[A-Z';, -]+  \n",
       "12163                         ^CHAPTER\\s+[IVXLCM]+  \n",
       "16457                    ^\\s*CHAPTER\\s+[IVXLCM]+\\.  \n",
       "18857                              ^CHAPTER\\s+\\d+$  \n",
       "44278                    ^\\s*CHAPTER\\s+[IVXLCM]+\\.  "
      ]
     },
     "execution_count": 88,
     "metadata": {},
     "output_type": "execute_result"
    }
   ],
   "source": [
    "LIB['chap_regex'] = LIB.index.map(pd.Series({x[0]:x[1] for x in ohco_pat_list}))\n",
    "LIB"
   ]
  },
  {
   "cell_type": "code",
   "execution_count": null,
   "metadata": {},
   "outputs": [],
   "source": []
  },
  {
   "cell_type": "code",
   "execution_count": 89,
   "metadata": {},
   "outputs": [],
   "source": [
    "# {x[0]:x[1] for x in ohco_pat_list}"
   ]
  },
  {
   "cell_type": "code",
   "execution_count": 90,
   "metadata": {},
   "outputs": [
    {
     "data": {
      "text/plain": [
       "source_file_path    VERNE__103__Around_the_World_in_Eighty_Days.txt\n",
       "title                               Around the World in Eighty Days\n",
       "author                                                 VERNE, JULES\n",
       "chap_regex                                ^\\s*CHAPTER\\s+[IVXLCM]+\\.\n",
       "Name: 103, dtype: object"
      ]
     },
     "execution_count": 90,
     "metadata": {},
     "output_type": "execute_result"
    }
   ],
   "source": [
    "LIB.loc[103]"
   ]
  },
  {
   "cell_type": "markdown",
   "metadata": {},
   "source": [
    "## Tokenize Corpus\n",
    "\n",
    "We tokenize each book and add each `TOKENS` table to a list to be concatenated into a single `CORPUS`."
   ]
  },
  {
   "cell_type": "code",
   "execution_count": 91,
   "metadata": {},
   "outputs": [
    {
     "data": {
      "text/plain": [
       "'/Users/mackenzyeleroy/Documents/MSDS/DS5001/FinalProject/Data/HGWellsAndJulesVerne'"
      ]
     },
     "execution_count": 91,
     "metadata": {},
     "output_type": "execute_result"
    }
   ],
   "source": [
    "os.getcwd()"
   ]
  },
  {
   "cell_type": "code",
   "execution_count": 92,
   "metadata": {
    "tags": []
   },
   "outputs": [],
   "source": [
    "#def tokenize_collection(LIB):\n",
    "def tokenize_collection(LIB):\n",
    "\n",
    "\n",
    "\n",
    "    books = []\n",
    "    #for book_id in LIB.index:\n",
    "    for book_id in easy_books:\n",
    "\n",
    "        # Announce\n",
    "        print(\"Tokenizing\", book_id, LIB.loc[book_id].title)\n",
    "\n",
    "        # Define vars\n",
    "        chap_regex = LIB.loc[book_id].chap_regex\n",
    "        ohco_pats = [('chap', chap_regex, 'm')]\n",
    "        src_file_path = LIB.loc[book_id].source_file_path\n",
    "\n",
    "        # Create object\n",
    "        text = TextParser(src_file_path, ohco_pats=ohco_pats, clip_pats=clip_pats, use_nltk=True)\n",
    "\n",
    "        # Define parameters\n",
    "        text.verbose = True\n",
    "        text.strip_hyphens = True\n",
    "        text.strip_whitespace = True\n",
    "\n",
    "        # Parse\n",
    "        text.import_source().parse_tokens();\n",
    "\n",
    "        # Name things\n",
    "        text.TOKENS['book_id'] = book_id\n",
    "        text.TOKENS = text.TOKENS.reset_index().set_index(['book_id'] + text.OHCO)\n",
    "\n",
    "        # Add to list\n",
    "        books.append(text.TOKENS)\n",
    "        \n",
    "    # Combine into a single dataframe\n",
    "    CORPUS = pd.concat(books).sort_index()\n",
    "\n",
    "    # Clean up\n",
    "    del(books)\n",
    "    del(text)\n",
    "        \n",
    "    print(\"Done\")\n",
    "        \n",
    "    return CORPUS"
   ]
  },
  {
   "cell_type": "code",
   "execution_count": 93,
   "metadata": {},
   "outputs": [
    {
     "name": "stdout",
     "output_type": "stream",
     "text": [
      "Tokenizing 12163 The Sleeper Awakes\n",
      "Importing  WELLS__12163__The_Sleeper_Awakes.txt\n",
      "Clipping text\n",
      "Parsing OHCO level 0 chap_id by milestone ^CHAPTER\\s+[IVXLCM]+\n",
      "line_str chap_str\n",
      "Index(['chap_str'], dtype='object')\n",
      "Parsing OHCO level 1 para_num by delimitter \\n\\n\n",
      "Parsing OHCO level 2 sent_num by NLTK model\n",
      "Parsing OHCO level 3 token_num by NLTK model\n",
      "Tokenizing 103 Around the World in Eighty Days\n",
      "Importing  VERNE__103__Around_the_World_in_Eighty_Days.txt\n",
      "Clipping text\n",
      "Parsing OHCO level 0 chap_id by milestone ^\\s*CHAPTER\\s+[IVXLCM]+\\.\n",
      "line_str chap_str\n",
      "Index(['chap_str'], dtype='object')\n",
      "Parsing OHCO level 1 para_num by delimitter \\n\\n\n",
      "Parsing OHCO level 2 sent_num by NLTK model\n",
      "Parsing OHCO level 3 token_num by NLTK model\n",
      "Tokenizing 1355 The Underground City\n",
      "Importing  VERNE__1355__The_Underground_City.txt\n",
      "Clipping text\n",
      "Parsing OHCO level 0 chap_id by milestone ^\\s*CHAPTER\\s+[IVXLCM]+\\.\n",
      "line_str chap_str\n",
      "Index(['chap_str'], dtype='object')\n",
      "Parsing OHCO level 1 para_num by delimitter \\n\\n\n",
      "Parsing OHCO level 2 sent_num by NLTK model\n",
      "Parsing OHCO level 3 token_num by NLTK model\n",
      "Tokenizing 1268 The Mysterious Island\n",
      "Importing  VERNE__1268__The_Mysterious_Island.txt\n",
      "Clipping text\n",
      "Parsing OHCO level 0 chap_id by milestone ^Chapter\\s+\\d+$\n",
      "line_str chap_str\n",
      "Index(['chap_str'], dtype='object')\n",
      "Parsing OHCO level 1 para_num by delimitter \\n\\n\n",
      "Parsing OHCO level 2 sent_num by NLTK model\n",
      "Parsing OHCO level 3 token_num by NLTK model\n",
      "Tokenizing 164 Twenty Thousand Leagues under the Sea\n",
      "Importing  VERNE__164__Twenty_Thousand_Leagues_under_the_Sea.txt\n",
      "Clipping text\n",
      "Parsing OHCO level 0 chap_id by milestone ^CHAPTER\\s+\\d+$\n",
      "line_str chap_str\n",
      "Index(['chap_str'], dtype='object')\n",
      "Parsing OHCO level 1 para_num by delimitter \\n\\n\n",
      "Parsing OHCO level 2 sent_num by NLTK model\n",
      "Parsing OHCO level 3 token_num by NLTK model\n",
      "Tokenizing 18857 A Journey to the Centre of the Earth\n",
      "Importing  VERNE__18857__A_Journey_to_the_Centre_of_the_Earth.txt\n",
      "Clipping text\n",
      "Parsing OHCO level 0 chap_id by milestone ^CHAPTER\\s+\\d+$\n",
      "line_str chap_str\n",
      "Index(['chap_str'], dtype='object')\n",
      "Parsing OHCO level 1 para_num by delimitter \\n\\n\n",
      "Parsing OHCO level 2 sent_num by NLTK model\n",
      "Parsing OHCO level 3 token_num by NLTK model\n",
      "Tokenizing 35 The Time Machine\n",
      "Importing  WELLS__35__The_Time_Machine.txt\n",
      "Clipping text\n",
      "Parsing OHCO level 0 chap_id by milestone ^\\s*CHAPTER\\s+[[IVXLCM]+\\.\n",
      "line_str chap_str\n",
      "Index(['chap_str'], dtype='object')\n",
      "Parsing OHCO level 1 para_num by delimitter \\n\\n\n",
      "Parsing OHCO level 2 sent_num by NLTK model\n",
      "Parsing OHCO level 3 token_num by NLTK model\n",
      "Tokenizing 36 The War of the Worlds\n",
      "Importing  WELLS__36__The_War_of_the_Worlds.txt\n",
      "Clipping text\n",
      "Parsing OHCO level 0 chap_id by milestone ^\\s*CHAPTER\\s+[IVXLCM]+\\.\n",
      "line_str chap_str\n",
      "Index(['chap_str'], dtype='object')\n",
      "Parsing OHCO level 1 para_num by delimitter \\n\\n\n",
      "Parsing OHCO level 2 sent_num by NLTK model\n",
      "Parsing OHCO level 3 token_num by NLTK model\n",
      "Tokenizing 159 The Island of Doctor Moreau\n",
      "Importing  WELLS__159__The_Island_of_Doctor_Moreau.txt\n",
      "Clipping text\n",
      "Parsing OHCO level 0 chap_id by milestone (INTRODUCTION.)|^\\s*CHAPTER\\s+[IVXLCM]+\\.\n",
      "line_str chap_str\n",
      "Index(['chap_str'], dtype='object')\n",
      "Parsing OHCO level 1 para_num by delimitter \\n\\n\n",
      "Parsing OHCO level 2 sent_num by NLTK model\n"
     ]
    },
    {
     "name": "stderr",
     "output_type": "stream",
     "text": [
      "/Users/mackenzyeleroy/opt/anaconda3/lib/python3.8/site-packages/pandas/core/strings/accessor.py:101: UserWarning:\n",
      "\n",
      "This pattern has match groups. To actually get the groups, use str.extract.\n",
      "\n"
     ]
    },
    {
     "name": "stdout",
     "output_type": "stream",
     "text": [
      "Parsing OHCO level 3 token_num by NLTK model\n",
      "Tokenizing 1059 The World Set Free\n",
      "Importing  WELLS__1059__The_World_Set_Free.txt\n",
      "Clipping text\n",
      "Parsing OHCO level 0 chap_id by milestone ^\\s*CHAPTER\\sTHE\\s[A-Z';, -]+\n",
      "line_str chap_str\n",
      "Index(['chap_str'], dtype='object')\n",
      "Parsing OHCO level 1 para_num by delimitter \\n\\n\n",
      "Parsing OHCO level 2 sent_num by NLTK model\n",
      "Parsing OHCO level 3 token_num by NLTK model\n",
      "Tokenizing 718 Tono-Bungay\n",
      "Importing  WELLS__718__Tono-Bungay.txt\n",
      "Clipping text\n",
      "Parsing OHCO level 0 chap_id by milestone ^\\s*CHAPTER\\sTHE\\s[A-Z';, -]+\n",
      "line_str chap_str\n",
      "Index(['chap_str'], dtype='object')\n",
      "Parsing OHCO level 1 para_num by delimitter \\n\\n\n",
      "Parsing OHCO level 2 sent_num by NLTK model\n",
      "Parsing OHCO level 3 token_num by NLTK model\n",
      "Tokenizing 780 The War in the Air\n",
      "Importing  WELLS__780__The_War_in_the_Air.txt\n",
      "Clipping text\n",
      "Parsing OHCO level 0 chap_id by milestone ^\\s*CHAPTER\\s+[IVXLCM]+\\.\n",
      "line_str chap_str\n",
      "Index(['chap_str'], dtype='object')\n",
      "Parsing OHCO level 1 para_num by delimitter \\n\\n\n",
      "Parsing OHCO level 2 sent_num by NLTK model\n",
      "Parsing OHCO level 3 token_num by NLTK model\n",
      "Tokenizing 1059 The World Set Free\n",
      "Importing  WELLS__1059__The_World_Set_Free.txt\n",
      "Clipping text\n",
      "Parsing OHCO level 0 chap_id by milestone ^\\s*CHAPTER\\sTHE\\s[A-Z';, -]+\n",
      "line_str chap_str\n",
      "Index(['chap_str'], dtype='object')\n",
      "Parsing OHCO level 1 para_num by delimitter \\n\\n\n",
      "Parsing OHCO level 2 sent_num by NLTK model\n",
      "Parsing OHCO level 3 token_num by NLTK model\n",
      "Tokenizing 3091 Eight Hundred Leagues on the Amazon\n",
      "Importing  VERNE__3091__Eight_Hundred_Leagues_on_the_Amazon.txt\n",
      "Clipping text\n",
      "Parsing OHCO level 0 chap_id by milestone ^\\s*CHAPTER\\s+[IVXLCM]+\\.\n",
      "line_str chap_str\n",
      "Index(['chap_str'], dtype='object')\n",
      "Parsing OHCO level 1 para_num by delimitter \\n\\n\n",
      "Parsing OHCO level 2 sent_num by NLTK model\n",
      "Parsing OHCO level 3 token_num by NLTK model\n",
      "Tokenizing 5230 The Invisible Man A Grotesque Romance\n",
      "Importing  WELLS__5230__The_Invisible_Man_A_Grotesque_Romance.txt\n",
      "Clipping text\n",
      "Parsing OHCO level 0 chap_id by milestone ^\\s*CHAPTER\\s+[IVXLCM]+\\.\n",
      "line_str chap_str\n",
      "Index(['chap_str'], dtype='object')\n",
      "Parsing OHCO level 1 para_num by delimitter \\n\\n\n",
      "Parsing OHCO level 2 sent_num by NLTK model\n",
      "Parsing OHCO level 3 token_num by NLTK model\n",
      "Tokenizing 6424 A Modern Utopia\n",
      "Importing  WELLS__6424__A_Modern_Utopia.txt\n",
      "Clipping text\n",
      "Parsing OHCO level 0 chap_id by milestone ^\\s*CHAPTER\\sTHE\\s[A-Z';, -]+\n",
      "line_str chap_str\n",
      "Index(['chap_str'], dtype='object')\n",
      "Parsing OHCO level 1 para_num by delimitter \\n\\n\n",
      "Parsing OHCO level 2 sent_num by NLTK model\n",
      "Parsing OHCO level 3 token_num by NLTK model\n",
      "Tokenizing 16457 All Around the Moon\n",
      "Importing  VERNE__16457__All_Around_the_Moon.txt\n",
      "Clipping text\n",
      "Parsing OHCO level 0 chap_id by milestone ^\\s*CHAPTER\\s+[IVXLCM]+\\.\n",
      "line_str chap_str\n",
      "Index(['chap_str'], dtype='object')\n",
      "Parsing OHCO level 1 para_num by delimitter \\n\\n\n",
      "Parsing OHCO level 2 sent_num by NLTK model\n",
      "Parsing OHCO level 3 token_num by NLTK model\n",
      "Tokenizing 44278 From the Earth to the Moon\n",
      "Importing  VERNE__44278__From_the_Earth_to_the_Moon.txt\n",
      "Clipping text\n",
      "Parsing OHCO level 0 chap_id by milestone ^\\s*CHAPTER\\s+[IVXLCM]+\\.\n",
      "line_str chap_str\n",
      "Index(['chap_str'], dtype='object')\n",
      "Parsing OHCO level 1 para_num by delimitter \\n\\n\n",
      "Parsing OHCO level 2 sent_num by NLTK model\n",
      "Parsing OHCO level 3 token_num by NLTK model\n",
      "Tokenizing 1013 The First Men in the Moon\n",
      "Importing  WELLS__1013__The_First_Men_in_the_Moon.txt\n",
      "Clipping text\n",
      "Parsing OHCO level 0 chap_id by milestone ^\\s*CHAPTER\\s+[IVXLCM]+\\.\n",
      "line_str chap_str\n",
      "Index(['chap_str'], dtype='object')\n",
      "Parsing OHCO level 1 para_num by delimitter \\n\\n\n",
      "Parsing OHCO level 2 sent_num by NLTK model\n",
      "Parsing OHCO level 3 token_num by NLTK model\n",
      "Tokenizing 6424 A Modern Utopia\n",
      "Importing  WELLS__6424__A_Modern_Utopia.txt\n",
      "Clipping text\n",
      "Parsing OHCO level 0 chap_id by milestone ^\\s*CHAPTER\\sTHE\\s[A-Z';, -]+\n",
      "line_str chap_str\n",
      "Index(['chap_str'], dtype='object')\n",
      "Parsing OHCO level 1 para_num by delimitter \\n\\n\n",
      "Parsing OHCO level 2 sent_num by NLTK model\n",
      "Parsing OHCO level 3 token_num by NLTK model\n",
      "Tokenizing 3526 Five Weeks in a Balloon\n",
      "Importing  VERNE__3526__Five_Weeks_in_a_Balloon.txt\n",
      "Clipping text\n",
      "Parsing OHCO level 0 chap_id by milestone ^\\s*CHAPTER\\s+[A-Z';, -]+\\.\n",
      "line_str chap_str\n",
      "Index(['chap_str'], dtype='object')\n",
      "Parsing OHCO level 1 para_num by delimitter \\n\\n\n",
      "Parsing OHCO level 2 sent_num by NLTK model\n",
      "Parsing OHCO level 3 token_num by NLTK model\n",
      "Tokenizing 1353 Off on a Comet!\n",
      "Importing  VERNE__1353__Off_on_a_Comet!.txt\n",
      "Clipping text\n",
      "Parsing OHCO level 0 chap_id by milestone ^\\s*CHAPTER\\s+[IVXLCM]+\\.\n",
      "line_str chap_str\n",
      "Index(['chap_str'], dtype='object')\n",
      "Parsing OHCO level 1 para_num by delimitter \\n\\n\n",
      "Parsing OHCO level 2 sent_num by NLTK model\n",
      "Parsing OHCO level 3 token_num by NLTK model\n",
      "Done\n"
     ]
    }
   ],
   "source": [
    "CORPUS = tokenize_collection(LIB)"
   ]
  },
  {
   "cell_type": "code",
   "execution_count": 94,
   "metadata": {},
   "outputs": [],
   "source": [
    "CORPUS_BOOK_IDS= CORPUS.reset_index().book_id.unique()"
   ]
  },
  {
   "cell_type": "code",
   "execution_count": 95,
   "metadata": {},
   "outputs": [
    {
     "data": {
      "text/plain": [
       "[32510,\n",
       " 60168,\n",
       " 63118,\n",
       " 43785,\n",
       " 103699,\n",
       " 134686,\n",
       " 98229,\n",
       " 68552,\n",
       " 115836,\n",
       " 194242,\n",
       " 100674,\n",
       " 43662,\n",
       " 95170,\n",
       " 90794,\n",
       " 48577,\n",
       " 183860,\n",
       " 76023,\n",
       " 97196,\n",
       " 86041,\n",
       " 40570]"
      ]
     },
     "execution_count": 95,
     "metadata": {},
     "output_type": "execute_result"
    }
   ],
   "source": [
    "[len(CORPUS.reset_index()[CORPUS.reset_index()['book_id'] == x]) for x in CORPUS_BOOK_IDS]"
   ]
  },
  {
   "cell_type": "code",
   "execution_count": 96,
   "metadata": {},
   "outputs": [
    {
     "data": {
      "text/html": [
       "<div>\n",
       "<style scoped>\n",
       "    .dataframe tbody tr th:only-of-type {\n",
       "        vertical-align: middle;\n",
       "    }\n",
       "\n",
       "    .dataframe tbody tr th {\n",
       "        vertical-align: top;\n",
       "    }\n",
       "\n",
       "    .dataframe thead th {\n",
       "        text-align: right;\n",
       "    }\n",
       "</style>\n",
       "<table border=\"1\" class=\"dataframe\">\n",
       "  <thead>\n",
       "    <tr style=\"text-align: right;\">\n",
       "      <th></th>\n",
       "      <th></th>\n",
       "      <th></th>\n",
       "      <th></th>\n",
       "      <th></th>\n",
       "      <th>pos_tuple</th>\n",
       "      <th>pos</th>\n",
       "      <th>token_str</th>\n",
       "      <th>term_str</th>\n",
       "    </tr>\n",
       "    <tr>\n",
       "      <th>book_id</th>\n",
       "      <th>chap_id</th>\n",
       "      <th>para_num</th>\n",
       "      <th>sent_num</th>\n",
       "      <th>token_num</th>\n",
       "      <th></th>\n",
       "      <th></th>\n",
       "      <th></th>\n",
       "      <th></th>\n",
       "    </tr>\n",
       "  </thead>\n",
       "  <tbody>\n",
       "    <tr>\n",
       "      <th rowspan=\"5\" valign=\"top\">35</th>\n",
       "      <th rowspan=\"5\" valign=\"top\">1</th>\n",
       "      <th>0</th>\n",
       "      <th>0</th>\n",
       "      <th>0</th>\n",
       "      <td>(Introduction, NN)</td>\n",
       "      <td>NN</td>\n",
       "      <td>Introduction</td>\n",
       "      <td>introduction</td>\n",
       "    </tr>\n",
       "    <tr>\n",
       "      <th rowspan=\"4\" valign=\"top\">1</th>\n",
       "      <th rowspan=\"4\" valign=\"top\">0</th>\n",
       "      <th>0</th>\n",
       "      <td>(The, DT)</td>\n",
       "      <td>DT</td>\n",
       "      <td>The</td>\n",
       "      <td>the</td>\n",
       "    </tr>\n",
       "    <tr>\n",
       "      <th>1</th>\n",
       "      <td>(Time, NNP)</td>\n",
       "      <td>NNP</td>\n",
       "      <td>Time</td>\n",
       "      <td>time</td>\n",
       "    </tr>\n",
       "    <tr>\n",
       "      <th>2</th>\n",
       "      <td>(Traveller, NNP)</td>\n",
       "      <td>NNP</td>\n",
       "      <td>Traveller</td>\n",
       "      <td>traveller</td>\n",
       "    </tr>\n",
       "    <tr>\n",
       "      <th>3</th>\n",
       "      <td>((for, NNP)</td>\n",
       "      <td>NNP</td>\n",
       "      <td>(for</td>\n",
       "      <td>for</td>\n",
       "    </tr>\n",
       "    <tr>\n",
       "      <th>...</th>\n",
       "      <th>...</th>\n",
       "      <th>...</th>\n",
       "      <th>...</th>\n",
       "      <th>...</th>\n",
       "      <td>...</td>\n",
       "      <td>...</td>\n",
       "      <td>...</td>\n",
       "      <td>...</td>\n",
       "    </tr>\n",
       "    <tr>\n",
       "      <th rowspan=\"5\" valign=\"top\">44278</th>\n",
       "      <th rowspan=\"5\" valign=\"top\">28</th>\n",
       "      <th rowspan=\"5\" valign=\"top\">15</th>\n",
       "      <th rowspan=\"5\" valign=\"top\">1</th>\n",
       "      <th>14</th>\n",
       "      <td>(will, MD)</td>\n",
       "      <td>MD</td>\n",
       "      <td>will</td>\n",
       "      <td>will</td>\n",
       "    </tr>\n",
       "    <tr>\n",
       "      <th>15</th>\n",
       "      <td>(come, VB)</td>\n",
       "      <td>VB</td>\n",
       "      <td>come</td>\n",
       "      <td>come</td>\n",
       "    </tr>\n",
       "    <tr>\n",
       "      <th>16</th>\n",
       "      <td>(out, RP)</td>\n",
       "      <td>RP</td>\n",
       "      <td>out</td>\n",
       "      <td>out</td>\n",
       "    </tr>\n",
       "    <tr>\n",
       "      <th>17</th>\n",
       "      <td>(all, DT)</td>\n",
       "      <td>DT</td>\n",
       "      <td>all</td>\n",
       "      <td>all</td>\n",
       "    </tr>\n",
       "    <tr>\n",
       "      <th>18</th>\n",
       "      <td>(right.\", NN)</td>\n",
       "      <td>NN</td>\n",
       "      <td>right.\"</td>\n",
       "      <td>right</td>\n",
       "    </tr>\n",
       "  </tbody>\n",
       "</table>\n",
       "<p>1777392 rows × 4 columns</p>\n",
       "</div>"
      ],
      "text/plain": [
       "                                                      pos_tuple  pos  \\\n",
       "book_id chap_id para_num sent_num token_num                            \n",
       "35      1       0        0        0          (Introduction, NN)   NN   \n",
       "                1        0        0                   (The, DT)   DT   \n",
       "                                  1                 (Time, NNP)  NNP   \n",
       "                                  2            (Traveller, NNP)  NNP   \n",
       "                                  3                 ((for, NNP)  NNP   \n",
       "...                                                         ...  ...   \n",
       "44278   28      15       1        14                 (will, MD)   MD   \n",
       "                                  15                 (come, VB)   VB   \n",
       "                                  16                  (out, RP)   RP   \n",
       "                                  17                  (all, DT)   DT   \n",
       "                                  18              (right.\", NN)   NN   \n",
       "\n",
       "                                                token_str      term_str  \n",
       "book_id chap_id para_num sent_num token_num                              \n",
       "35      1       0        0        0          Introduction  introduction  \n",
       "                1        0        0                   The           the  \n",
       "                                  1                  Time          time  \n",
       "                                  2             Traveller     traveller  \n",
       "                                  3                  (for           for  \n",
       "...                                                   ...           ...  \n",
       "44278   28      15       1        14                 will          will  \n",
       "                                  15                 come          come  \n",
       "                                  16                  out           out  \n",
       "                                  17                  all           all  \n",
       "                                  18              right.\"         right  \n",
       "\n",
       "[1777392 rows x 4 columns]"
      ]
     },
     "execution_count": 96,
     "metadata": {},
     "output_type": "execute_result"
    }
   ],
   "source": [
    "CORPUS"
   ]
  },
  {
   "cell_type": "markdown",
   "metadata": {},
   "source": [
    "## Extract some features for `LIB`"
   ]
  },
  {
   "cell_type": "code",
   "execution_count": 97,
   "metadata": {},
   "outputs": [],
   "source": [
    "LIB['book_len'] = CORPUS.groupby('book_id').term_str.count()"
   ]
  },
  {
   "cell_type": "code",
   "execution_count": 98,
   "metadata": {},
   "outputs": [],
   "source": [
    "LIB = LIB.sort_values('book_len')"
   ]
  },
  {
   "cell_type": "code",
   "execution_count": 99,
   "metadata": {},
   "outputs": [],
   "source": [
    "LIB['n_chaps'] = CORPUS.reset_index()[['book_id','chap_id']]\\\n",
    "    .drop_duplicates()\\\n",
    "    .groupby('book_id').chap_id.count()"
   ]
  },
  {
   "cell_type": "code",
   "execution_count": 100,
   "metadata": {},
   "outputs": [
    {
     "data": {
      "text/html": [
       "<div>\n",
       "<style scoped>\n",
       "    .dataframe tbody tr th:only-of-type {\n",
       "        vertical-align: middle;\n",
       "    }\n",
       "\n",
       "    .dataframe tbody tr th {\n",
       "        vertical-align: top;\n",
       "    }\n",
       "\n",
       "    .dataframe thead th {\n",
       "        text-align: right;\n",
       "    }\n",
       "</style>\n",
       "<table border=\"1\" class=\"dataframe\">\n",
       "  <thead>\n",
       "    <tr style=\"text-align: right;\">\n",
       "      <th></th>\n",
       "      <th>source_file_path</th>\n",
       "      <th>title</th>\n",
       "      <th>author</th>\n",
       "      <th>chap_regex</th>\n",
       "      <th>book_len</th>\n",
       "      <th>n_chaps</th>\n",
       "    </tr>\n",
       "    <tr>\n",
       "      <th>book_id</th>\n",
       "      <th></th>\n",
       "      <th></th>\n",
       "      <th></th>\n",
       "      <th></th>\n",
       "      <th></th>\n",
       "      <th></th>\n",
       "    </tr>\n",
       "  </thead>\n",
       "  <tbody>\n",
       "    <tr>\n",
       "      <th>35</th>\n",
       "      <td>WELLS__35__The_Time_Machine.txt</td>\n",
       "      <td>The Time Machine</td>\n",
       "      <td>WELLS, H.G</td>\n",
       "      <td>^\\s*CHAPTER\\s+[[IVXLCM]+\\.</td>\n",
       "      <td>32506</td>\n",
       "      <td>17</td>\n",
       "    </tr>\n",
       "    <tr>\n",
       "      <th>44278</th>\n",
       "      <td>VERNE__44278__From_the_Earth_to_the_Moon.txt</td>\n",
       "      <td>From the Earth to the Moon</td>\n",
       "      <td>VERNE, JULES</td>\n",
       "      <td>^\\s*CHAPTER\\s+[IVXLCM]+\\.</td>\n",
       "      <td>40559</td>\n",
       "      <td>28</td>\n",
       "    </tr>\n",
       "    <tr>\n",
       "      <th>1355</th>\n",
       "      <td>VERNE__1355__The_Underground_City.txt</td>\n",
       "      <td>The Underground City</td>\n",
       "      <td>VERNE, JULES</td>\n",
       "      <td>^\\s*CHAPTER\\s+[IVXLCM]+\\.</td>\n",
       "      <td>43662</td>\n",
       "      <td>19</td>\n",
       "    </tr>\n",
       "    <tr>\n",
       "      <th>159</th>\n",
       "      <td>WELLS__159__The_Island_of_Doctor_Moreau.txt</td>\n",
       "      <td>The Island of Doctor Moreau</td>\n",
       "      <td>WELLS, H.G</td>\n",
       "      <td>(INTRODUCTION.)|^\\s*CHAPTER\\s+[IVXLCM]+\\.</td>\n",
       "      <td>43782</td>\n",
       "      <td>23</td>\n",
       "    </tr>\n",
       "    <tr>\n",
       "      <th>5230</th>\n",
       "      <td>WELLS__5230__The_Invisible_Man_A_Grotesque_Rom...</td>\n",
       "      <td>The Invisible Man A Grotesque Romance</td>\n",
       "      <td>WELLS, H.G</td>\n",
       "      <td>^\\s*CHAPTER\\s+[IVXLCM]+\\.</td>\n",
       "      <td>48562</td>\n",
       "      <td>28</td>\n",
       "    </tr>\n",
       "    <tr>\n",
       "      <th>36</th>\n",
       "      <td>WELLS__36__The_War_of_the_Worlds.txt</td>\n",
       "      <td>The War of the Worlds</td>\n",
       "      <td>WELLS, H.G</td>\n",
       "      <td>^\\s*CHAPTER\\s+[IVXLCM]+\\.</td>\n",
       "      <td>60129</td>\n",
       "      <td>27</td>\n",
       "    </tr>\n",
       "    <tr>\n",
       "      <th>103</th>\n",
       "      <td>VERNE__103__Around_the_World_in_Eighty_Days.txt</td>\n",
       "      <td>Around the World in Eighty Days</td>\n",
       "      <td>VERNE, JULES</td>\n",
       "      <td>^\\s*CHAPTER\\s+[IVXLCM]+\\.</td>\n",
       "      <td>63114</td>\n",
       "      <td>37</td>\n",
       "    </tr>\n",
       "    <tr>\n",
       "      <th>1013</th>\n",
       "      <td>WELLS__1013__The_First_Men_in_the_Moon.txt</td>\n",
       "      <td>The First Men in the Moon</td>\n",
       "      <td>WELLS, H.G</td>\n",
       "      <td>^\\s*CHAPTER\\s+[IVXLCM]+\\.</td>\n",
       "      <td>68534</td>\n",
       "      <td>26</td>\n",
       "    </tr>\n",
       "    <tr>\n",
       "      <th>12163</th>\n",
       "      <td>WELLS__12163__The_Sleeper_Awakes.txt</td>\n",
       "      <td>The Sleeper Awakes</td>\n",
       "      <td>WELLS, H.G</td>\n",
       "      <td>^CHAPTER\\s+[IVXLCM]+</td>\n",
       "      <td>75981</td>\n",
       "      <td>25</td>\n",
       "    </tr>\n",
       "    <tr>\n",
       "      <th>18857</th>\n",
       "      <td>VERNE__18857__A_Journey_to_the_Centre_of_the_E...</td>\n",
       "      <td>A Journey to the Centre of the Earth</td>\n",
       "      <td>VERNE, JULES</td>\n",
       "      <td>^CHAPTER\\s+\\d+$</td>\n",
       "      <td>86039</td>\n",
       "      <td>44</td>\n",
       "    </tr>\n",
       "    <tr>\n",
       "      <th>3526</th>\n",
       "      <td>VERNE__3526__Five_Weeks_in_a_Balloon.txt</td>\n",
       "      <td>Five Weeks in a Balloon</td>\n",
       "      <td>VERNE, JULES</td>\n",
       "      <td>^\\s*CHAPTER\\s+[A-Z';, -]+\\.</td>\n",
       "      <td>90793</td>\n",
       "      <td>44</td>\n",
       "    </tr>\n",
       "    <tr>\n",
       "      <th>3091</th>\n",
       "      <td>VERNE__3091__Eight_Hundred_Leagues_on_the_Amaz...</td>\n",
       "      <td>Eight Hundred Leagues on the Amazon</td>\n",
       "      <td>VERNE, JULES</td>\n",
       "      <td>^\\s*CHAPTER\\s+[IVXLCM]+\\.</td>\n",
       "      <td>95162</td>\n",
       "      <td>40</td>\n",
       "    </tr>\n",
       "    <tr>\n",
       "      <th>16457</th>\n",
       "      <td>VERNE__16457__All_Around_the_Moon.txt</td>\n",
       "      <td>All Around the Moon</td>\n",
       "      <td>VERNE, JULES</td>\n",
       "      <td>^\\s*CHAPTER\\s+[IVXLCM]+\\.</td>\n",
       "      <td>97152</td>\n",
       "      <td>24</td>\n",
       "    </tr>\n",
       "    <tr>\n",
       "      <th>780</th>\n",
       "      <td>WELLS__780__The_War_in_the_Air.txt</td>\n",
       "      <td>The War in the Air</td>\n",
       "      <td>WELLS, H.G</td>\n",
       "      <td>^\\s*CHAPTER\\s+[IVXLCM]+\\.</td>\n",
       "      <td>98207</td>\n",
       "      <td>11</td>\n",
       "    </tr>\n",
       "    <tr>\n",
       "      <th>1353</th>\n",
       "      <td>VERNE__1353__Off_on_a_Comet!.txt</td>\n",
       "      <td>Off on a Comet!</td>\n",
       "      <td>VERNE, JULES</td>\n",
       "      <td>^\\s*CHAPTER\\s+[IVXLCM]+\\.</td>\n",
       "      <td>100671</td>\n",
       "      <td>43</td>\n",
       "    </tr>\n",
       "    <tr>\n",
       "      <th>164</th>\n",
       "      <td>VERNE__164__Twenty_Thousand_Leagues_under_the_...</td>\n",
       "      <td>Twenty Thousand Leagues under the Sea</td>\n",
       "      <td>VERNE, JULES</td>\n",
       "      <td>^CHAPTER\\s+\\d+$</td>\n",
       "      <td>103694</td>\n",
       "      <td>46</td>\n",
       "    </tr>\n",
       "    <tr>\n",
       "      <th>1059</th>\n",
       "      <td>WELLS__1059__The_World_Set_Free.txt</td>\n",
       "      <td>The World Set Free</td>\n",
       "      <td>WELLS, H.G</td>\n",
       "      <td>^\\s*CHAPTER\\sTHE\\s[A-Z';, -]+</td>\n",
       "      <td>115742</td>\n",
       "      <td>5</td>\n",
       "    </tr>\n",
       "    <tr>\n",
       "      <th>718</th>\n",
       "      <td>WELLS__718__Tono-Bungay.txt</td>\n",
       "      <td>Tono-Bungay</td>\n",
       "      <td>WELLS, H.G</td>\n",
       "      <td>^\\s*CHAPTER\\sTHE\\s[A-Z';, -]+</td>\n",
       "      <td>134677</td>\n",
       "      <td>14</td>\n",
       "    </tr>\n",
       "    <tr>\n",
       "      <th>6424</th>\n",
       "      <td>WELLS__6424__A_Modern_Utopia.txt</td>\n",
       "      <td>A Modern Utopia</td>\n",
       "      <td>WELLS, H.G</td>\n",
       "      <td>^\\s*CHAPTER\\sTHE\\s[A-Z';, -]+</td>\n",
       "      <td>183804</td>\n",
       "      <td>11</td>\n",
       "    </tr>\n",
       "    <tr>\n",
       "      <th>1268</th>\n",
       "      <td>VERNE__1268__The_Mysterious_Island.txt</td>\n",
       "      <td>The Mysterious Island</td>\n",
       "      <td>VERNE, JULES</td>\n",
       "      <td>^Chapter\\s+\\d+$</td>\n",
       "      <td>194229</td>\n",
       "      <td>62</td>\n",
       "    </tr>\n",
       "  </tbody>\n",
       "</table>\n",
       "</div>"
      ],
      "text/plain": [
       "                                          source_file_path  \\\n",
       "book_id                                                      \n",
       "35                         WELLS__35__The_Time_Machine.txt   \n",
       "44278         VERNE__44278__From_the_Earth_to_the_Moon.txt   \n",
       "1355                 VERNE__1355__The_Underground_City.txt   \n",
       "159            WELLS__159__The_Island_of_Doctor_Moreau.txt   \n",
       "5230     WELLS__5230__The_Invisible_Man_A_Grotesque_Rom...   \n",
       "36                    WELLS__36__The_War_of_the_Worlds.txt   \n",
       "103        VERNE__103__Around_the_World_in_Eighty_Days.txt   \n",
       "1013            WELLS__1013__The_First_Men_in_the_Moon.txt   \n",
       "12163                 WELLS__12163__The_Sleeper_Awakes.txt   \n",
       "18857    VERNE__18857__A_Journey_to_the_Centre_of_the_E...   \n",
       "3526              VERNE__3526__Five_Weeks_in_a_Balloon.txt   \n",
       "3091     VERNE__3091__Eight_Hundred_Leagues_on_the_Amaz...   \n",
       "16457                VERNE__16457__All_Around_the_Moon.txt   \n",
       "780                     WELLS__780__The_War_in_the_Air.txt   \n",
       "1353                      VERNE__1353__Off_on_a_Comet!.txt   \n",
       "164      VERNE__164__Twenty_Thousand_Leagues_under_the_...   \n",
       "1059                   WELLS__1059__The_World_Set_Free.txt   \n",
       "718                            WELLS__718__Tono-Bungay.txt   \n",
       "6424                      WELLS__6424__A_Modern_Utopia.txt   \n",
       "1268                VERNE__1268__The_Mysterious_Island.txt   \n",
       "\n",
       "                                         title        author  \\\n",
       "book_id                                                        \n",
       "35                            The Time Machine    WELLS, H.G   \n",
       "44278               From the Earth to the Moon  VERNE, JULES   \n",
       "1355                      The Underground City  VERNE, JULES   \n",
       "159                The Island of Doctor Moreau    WELLS, H.G   \n",
       "5230     The Invisible Man A Grotesque Romance    WELLS, H.G   \n",
       "36                       The War of the Worlds    WELLS, H.G   \n",
       "103            Around the World in Eighty Days  VERNE, JULES   \n",
       "1013                 The First Men in the Moon    WELLS, H.G   \n",
       "12163                       The Sleeper Awakes    WELLS, H.G   \n",
       "18857     A Journey to the Centre of the Earth  VERNE, JULES   \n",
       "3526                   Five Weeks in a Balloon  VERNE, JULES   \n",
       "3091       Eight Hundred Leagues on the Amazon  VERNE, JULES   \n",
       "16457                      All Around the Moon  VERNE, JULES   \n",
       "780                         The War in the Air    WELLS, H.G   \n",
       "1353                           Off on a Comet!  VERNE, JULES   \n",
       "164      Twenty Thousand Leagues under the Sea  VERNE, JULES   \n",
       "1059                        The World Set Free    WELLS, H.G   \n",
       "718                                Tono-Bungay    WELLS, H.G   \n",
       "6424                           A Modern Utopia    WELLS, H.G   \n",
       "1268                     The Mysterious Island  VERNE, JULES   \n",
       "\n",
       "                                        chap_regex  book_len  n_chaps  \n",
       "book_id                                                                \n",
       "35                      ^\\s*CHAPTER\\s+[[IVXLCM]+\\.     32506       17  \n",
       "44278                    ^\\s*CHAPTER\\s+[IVXLCM]+\\.     40559       28  \n",
       "1355                     ^\\s*CHAPTER\\s+[IVXLCM]+\\.     43662       19  \n",
       "159      (INTRODUCTION.)|^\\s*CHAPTER\\s+[IVXLCM]+\\.     43782       23  \n",
       "5230                     ^\\s*CHAPTER\\s+[IVXLCM]+\\.     48562       28  \n",
       "36                       ^\\s*CHAPTER\\s+[IVXLCM]+\\.     60129       27  \n",
       "103                      ^\\s*CHAPTER\\s+[IVXLCM]+\\.     63114       37  \n",
       "1013                     ^\\s*CHAPTER\\s+[IVXLCM]+\\.     68534       26  \n",
       "12163                         ^CHAPTER\\s+[IVXLCM]+     75981       25  \n",
       "18857                              ^CHAPTER\\s+\\d+$     86039       44  \n",
       "3526                   ^\\s*CHAPTER\\s+[A-Z';, -]+\\.     90793       44  \n",
       "3091                     ^\\s*CHAPTER\\s+[IVXLCM]+\\.     95162       40  \n",
       "16457                    ^\\s*CHAPTER\\s+[IVXLCM]+\\.     97152       24  \n",
       "780                      ^\\s*CHAPTER\\s+[IVXLCM]+\\.     98207       11  \n",
       "1353                     ^\\s*CHAPTER\\s+[IVXLCM]+\\.    100671       43  \n",
       "164                                ^CHAPTER\\s+\\d+$    103694       46  \n",
       "1059                 ^\\s*CHAPTER\\sTHE\\s[A-Z';, -]+    115742        5  \n",
       "718                  ^\\s*CHAPTER\\sTHE\\s[A-Z';, -]+    134677       14  \n",
       "6424                 ^\\s*CHAPTER\\sTHE\\s[A-Z';, -]+    183804       11  \n",
       "1268                               ^Chapter\\s+\\d+$    194229       62  "
      ]
     },
     "execution_count": 100,
     "metadata": {},
     "output_type": "execute_result"
    }
   ],
   "source": [
    "LIB[LIB.chap_regex.notnull()]"
   ]
  },
  {
   "cell_type": "code",
   "execution_count": 101,
   "metadata": {},
   "outputs": [
    {
     "data": {
      "text/html": [
       "<div>\n",
       "<style scoped>\n",
       "    .dataframe tbody tr th:only-of-type {\n",
       "        vertical-align: middle;\n",
       "    }\n",
       "\n",
       "    .dataframe tbody tr th {\n",
       "        vertical-align: top;\n",
       "    }\n",
       "\n",
       "    .dataframe thead th {\n",
       "        text-align: right;\n",
       "    }\n",
       "</style>\n",
       "<table border=\"1\" class=\"dataframe\">\n",
       "  <thead>\n",
       "    <tr style=\"text-align: right;\">\n",
       "      <th></th>\n",
       "      <th>source_file_path</th>\n",
       "      <th>title</th>\n",
       "      <th>author</th>\n",
       "      <th>chap_regex</th>\n",
       "      <th>book_len</th>\n",
       "      <th>n_chaps</th>\n",
       "    </tr>\n",
       "    <tr>\n",
       "      <th>book_id</th>\n",
       "      <th></th>\n",
       "      <th></th>\n",
       "      <th></th>\n",
       "      <th></th>\n",
       "      <th></th>\n",
       "      <th></th>\n",
       "    </tr>\n",
       "  </thead>\n",
       "  <tbody>\n",
       "    <tr>\n",
       "      <th>35</th>\n",
       "      <td>WELLS__35__The_Time_Machine.txt</td>\n",
       "      <td>The Time Machine</td>\n",
       "      <td>WELLS, H.G</td>\n",
       "      <td>^\\s*CHAPTER\\s+[[IVXLCM]+\\.</td>\n",
       "      <td>32506</td>\n",
       "      <td>17</td>\n",
       "    </tr>\n",
       "    <tr>\n",
       "      <th>44278</th>\n",
       "      <td>VERNE__44278__From_the_Earth_to_the_Moon.txt</td>\n",
       "      <td>From the Earth to the Moon</td>\n",
       "      <td>VERNE, JULES</td>\n",
       "      <td>^\\s*CHAPTER\\s+[IVXLCM]+\\.</td>\n",
       "      <td>40559</td>\n",
       "      <td>28</td>\n",
       "    </tr>\n",
       "    <tr>\n",
       "      <th>1355</th>\n",
       "      <td>VERNE__1355__The_Underground_City.txt</td>\n",
       "      <td>The Underground City</td>\n",
       "      <td>VERNE, JULES</td>\n",
       "      <td>^\\s*CHAPTER\\s+[IVXLCM]+\\.</td>\n",
       "      <td>43662</td>\n",
       "      <td>19</td>\n",
       "    </tr>\n",
       "    <tr>\n",
       "      <th>159</th>\n",
       "      <td>WELLS__159__The_Island_of_Doctor_Moreau.txt</td>\n",
       "      <td>The Island of Doctor Moreau</td>\n",
       "      <td>WELLS, H.G</td>\n",
       "      <td>(INTRODUCTION.)|^\\s*CHAPTER\\s+[IVXLCM]+\\.</td>\n",
       "      <td>43782</td>\n",
       "      <td>23</td>\n",
       "    </tr>\n",
       "    <tr>\n",
       "      <th>5230</th>\n",
       "      <td>WELLS__5230__The_Invisible_Man_A_Grotesque_Rom...</td>\n",
       "      <td>The Invisible Man A Grotesque Romance</td>\n",
       "      <td>WELLS, H.G</td>\n",
       "      <td>^\\s*CHAPTER\\s+[IVXLCM]+\\.</td>\n",
       "      <td>48562</td>\n",
       "      <td>28</td>\n",
       "    </tr>\n",
       "    <tr>\n",
       "      <th>36</th>\n",
       "      <td>WELLS__36__The_War_of_the_Worlds.txt</td>\n",
       "      <td>The War of the Worlds</td>\n",
       "      <td>WELLS, H.G</td>\n",
       "      <td>^\\s*CHAPTER\\s+[IVXLCM]+\\.</td>\n",
       "      <td>60129</td>\n",
       "      <td>27</td>\n",
       "    </tr>\n",
       "    <tr>\n",
       "      <th>103</th>\n",
       "      <td>VERNE__103__Around_the_World_in_Eighty_Days.txt</td>\n",
       "      <td>Around the World in Eighty Days</td>\n",
       "      <td>VERNE, JULES</td>\n",
       "      <td>^\\s*CHAPTER\\s+[IVXLCM]+\\.</td>\n",
       "      <td>63114</td>\n",
       "      <td>37</td>\n",
       "    </tr>\n",
       "    <tr>\n",
       "      <th>1013</th>\n",
       "      <td>WELLS__1013__The_First_Men_in_the_Moon.txt</td>\n",
       "      <td>The First Men in the Moon</td>\n",
       "      <td>WELLS, H.G</td>\n",
       "      <td>^\\s*CHAPTER\\s+[IVXLCM]+\\.</td>\n",
       "      <td>68534</td>\n",
       "      <td>26</td>\n",
       "    </tr>\n",
       "    <tr>\n",
       "      <th>12163</th>\n",
       "      <td>WELLS__12163__The_Sleeper_Awakes.txt</td>\n",
       "      <td>The Sleeper Awakes</td>\n",
       "      <td>WELLS, H.G</td>\n",
       "      <td>^CHAPTER\\s+[IVXLCM]+</td>\n",
       "      <td>75981</td>\n",
       "      <td>25</td>\n",
       "    </tr>\n",
       "    <tr>\n",
       "      <th>18857</th>\n",
       "      <td>VERNE__18857__A_Journey_to_the_Centre_of_the_E...</td>\n",
       "      <td>A Journey to the Centre of the Earth</td>\n",
       "      <td>VERNE, JULES</td>\n",
       "      <td>^CHAPTER\\s+\\d+$</td>\n",
       "      <td>86039</td>\n",
       "      <td>44</td>\n",
       "    </tr>\n",
       "    <tr>\n",
       "      <th>3526</th>\n",
       "      <td>VERNE__3526__Five_Weeks_in_a_Balloon.txt</td>\n",
       "      <td>Five Weeks in a Balloon</td>\n",
       "      <td>VERNE, JULES</td>\n",
       "      <td>^\\s*CHAPTER\\s+[A-Z';, -]+\\.</td>\n",
       "      <td>90793</td>\n",
       "      <td>44</td>\n",
       "    </tr>\n",
       "    <tr>\n",
       "      <th>3091</th>\n",
       "      <td>VERNE__3091__Eight_Hundred_Leagues_on_the_Amaz...</td>\n",
       "      <td>Eight Hundred Leagues on the Amazon</td>\n",
       "      <td>VERNE, JULES</td>\n",
       "      <td>^\\s*CHAPTER\\s+[IVXLCM]+\\.</td>\n",
       "      <td>95162</td>\n",
       "      <td>40</td>\n",
       "    </tr>\n",
       "    <tr>\n",
       "      <th>16457</th>\n",
       "      <td>VERNE__16457__All_Around_the_Moon.txt</td>\n",
       "      <td>All Around the Moon</td>\n",
       "      <td>VERNE, JULES</td>\n",
       "      <td>^\\s*CHAPTER\\s+[IVXLCM]+\\.</td>\n",
       "      <td>97152</td>\n",
       "      <td>24</td>\n",
       "    </tr>\n",
       "    <tr>\n",
       "      <th>780</th>\n",
       "      <td>WELLS__780__The_War_in_the_Air.txt</td>\n",
       "      <td>The War in the Air</td>\n",
       "      <td>WELLS, H.G</td>\n",
       "      <td>^\\s*CHAPTER\\s+[IVXLCM]+\\.</td>\n",
       "      <td>98207</td>\n",
       "      <td>11</td>\n",
       "    </tr>\n",
       "    <tr>\n",
       "      <th>1353</th>\n",
       "      <td>VERNE__1353__Off_on_a_Comet!.txt</td>\n",
       "      <td>Off on a Comet!</td>\n",
       "      <td>VERNE, JULES</td>\n",
       "      <td>^\\s*CHAPTER\\s+[IVXLCM]+\\.</td>\n",
       "      <td>100671</td>\n",
       "      <td>43</td>\n",
       "    </tr>\n",
       "    <tr>\n",
       "      <th>164</th>\n",
       "      <td>VERNE__164__Twenty_Thousand_Leagues_under_the_...</td>\n",
       "      <td>Twenty Thousand Leagues under the Sea</td>\n",
       "      <td>VERNE, JULES</td>\n",
       "      <td>^CHAPTER\\s+\\d+$</td>\n",
       "      <td>103694</td>\n",
       "      <td>46</td>\n",
       "    </tr>\n",
       "    <tr>\n",
       "      <th>1059</th>\n",
       "      <td>WELLS__1059__The_World_Set_Free.txt</td>\n",
       "      <td>The World Set Free</td>\n",
       "      <td>WELLS, H.G</td>\n",
       "      <td>^\\s*CHAPTER\\sTHE\\s[A-Z';, -]+</td>\n",
       "      <td>115742</td>\n",
       "      <td>5</td>\n",
       "    </tr>\n",
       "    <tr>\n",
       "      <th>718</th>\n",
       "      <td>WELLS__718__Tono-Bungay.txt</td>\n",
       "      <td>Tono-Bungay</td>\n",
       "      <td>WELLS, H.G</td>\n",
       "      <td>^\\s*CHAPTER\\sTHE\\s[A-Z';, -]+</td>\n",
       "      <td>134677</td>\n",
       "      <td>14</td>\n",
       "    </tr>\n",
       "    <tr>\n",
       "      <th>6424</th>\n",
       "      <td>WELLS__6424__A_Modern_Utopia.txt</td>\n",
       "      <td>A Modern Utopia</td>\n",
       "      <td>WELLS, H.G</td>\n",
       "      <td>^\\s*CHAPTER\\sTHE\\s[A-Z';, -]+</td>\n",
       "      <td>183804</td>\n",
       "      <td>11</td>\n",
       "    </tr>\n",
       "    <tr>\n",
       "      <th>1268</th>\n",
       "      <td>VERNE__1268__The_Mysterious_Island.txt</td>\n",
       "      <td>The Mysterious Island</td>\n",
       "      <td>VERNE, JULES</td>\n",
       "      <td>^Chapter\\s+\\d+$</td>\n",
       "      <td>194229</td>\n",
       "      <td>62</td>\n",
       "    </tr>\n",
       "  </tbody>\n",
       "</table>\n",
       "</div>"
      ],
      "text/plain": [
       "                                          source_file_path  \\\n",
       "book_id                                                      \n",
       "35                         WELLS__35__The_Time_Machine.txt   \n",
       "44278         VERNE__44278__From_the_Earth_to_the_Moon.txt   \n",
       "1355                 VERNE__1355__The_Underground_City.txt   \n",
       "159            WELLS__159__The_Island_of_Doctor_Moreau.txt   \n",
       "5230     WELLS__5230__The_Invisible_Man_A_Grotesque_Rom...   \n",
       "36                    WELLS__36__The_War_of_the_Worlds.txt   \n",
       "103        VERNE__103__Around_the_World_in_Eighty_Days.txt   \n",
       "1013            WELLS__1013__The_First_Men_in_the_Moon.txt   \n",
       "12163                 WELLS__12163__The_Sleeper_Awakes.txt   \n",
       "18857    VERNE__18857__A_Journey_to_the_Centre_of_the_E...   \n",
       "3526              VERNE__3526__Five_Weeks_in_a_Balloon.txt   \n",
       "3091     VERNE__3091__Eight_Hundred_Leagues_on_the_Amaz...   \n",
       "16457                VERNE__16457__All_Around_the_Moon.txt   \n",
       "780                     WELLS__780__The_War_in_the_Air.txt   \n",
       "1353                      VERNE__1353__Off_on_a_Comet!.txt   \n",
       "164      VERNE__164__Twenty_Thousand_Leagues_under_the_...   \n",
       "1059                   WELLS__1059__The_World_Set_Free.txt   \n",
       "718                            WELLS__718__Tono-Bungay.txt   \n",
       "6424                      WELLS__6424__A_Modern_Utopia.txt   \n",
       "1268                VERNE__1268__The_Mysterious_Island.txt   \n",
       "\n",
       "                                         title        author  \\\n",
       "book_id                                                        \n",
       "35                            The Time Machine    WELLS, H.G   \n",
       "44278               From the Earth to the Moon  VERNE, JULES   \n",
       "1355                      The Underground City  VERNE, JULES   \n",
       "159                The Island of Doctor Moreau    WELLS, H.G   \n",
       "5230     The Invisible Man A Grotesque Romance    WELLS, H.G   \n",
       "36                       The War of the Worlds    WELLS, H.G   \n",
       "103            Around the World in Eighty Days  VERNE, JULES   \n",
       "1013                 The First Men in the Moon    WELLS, H.G   \n",
       "12163                       The Sleeper Awakes    WELLS, H.G   \n",
       "18857     A Journey to the Centre of the Earth  VERNE, JULES   \n",
       "3526                   Five Weeks in a Balloon  VERNE, JULES   \n",
       "3091       Eight Hundred Leagues on the Amazon  VERNE, JULES   \n",
       "16457                      All Around the Moon  VERNE, JULES   \n",
       "780                         The War in the Air    WELLS, H.G   \n",
       "1353                           Off on a Comet!  VERNE, JULES   \n",
       "164      Twenty Thousand Leagues under the Sea  VERNE, JULES   \n",
       "1059                        The World Set Free    WELLS, H.G   \n",
       "718                                Tono-Bungay    WELLS, H.G   \n",
       "6424                           A Modern Utopia    WELLS, H.G   \n",
       "1268                     The Mysterious Island  VERNE, JULES   \n",
       "\n",
       "                                        chap_regex  book_len  n_chaps  \n",
       "book_id                                                                \n",
       "35                      ^\\s*CHAPTER\\s+[[IVXLCM]+\\.     32506       17  \n",
       "44278                    ^\\s*CHAPTER\\s+[IVXLCM]+\\.     40559       28  \n",
       "1355                     ^\\s*CHAPTER\\s+[IVXLCM]+\\.     43662       19  \n",
       "159      (INTRODUCTION.)|^\\s*CHAPTER\\s+[IVXLCM]+\\.     43782       23  \n",
       "5230                     ^\\s*CHAPTER\\s+[IVXLCM]+\\.     48562       28  \n",
       "36                       ^\\s*CHAPTER\\s+[IVXLCM]+\\.     60129       27  \n",
       "103                      ^\\s*CHAPTER\\s+[IVXLCM]+\\.     63114       37  \n",
       "1013                     ^\\s*CHAPTER\\s+[IVXLCM]+\\.     68534       26  \n",
       "12163                         ^CHAPTER\\s+[IVXLCM]+     75981       25  \n",
       "18857                              ^CHAPTER\\s+\\d+$     86039       44  \n",
       "3526                   ^\\s*CHAPTER\\s+[A-Z';, -]+\\.     90793       44  \n",
       "3091                     ^\\s*CHAPTER\\s+[IVXLCM]+\\.     95162       40  \n",
       "16457                    ^\\s*CHAPTER\\s+[IVXLCM]+\\.     97152       24  \n",
       "780                      ^\\s*CHAPTER\\s+[IVXLCM]+\\.     98207       11  \n",
       "1353                     ^\\s*CHAPTER\\s+[IVXLCM]+\\.    100671       43  \n",
       "164                                ^CHAPTER\\s+\\d+$    103694       46  \n",
       "1059                 ^\\s*CHAPTER\\sTHE\\s[A-Z';, -]+    115742        5  \n",
       "718                  ^\\s*CHAPTER\\sTHE\\s[A-Z';, -]+    134677       14  \n",
       "6424                 ^\\s*CHAPTER\\sTHE\\s[A-Z';, -]+    183804       11  \n",
       "1268                               ^Chapter\\s+\\d+$    194229       62  "
      ]
     },
     "execution_count": 101,
     "metadata": {},
     "output_type": "execute_result"
    }
   ],
   "source": [
    "LIB"
   ]
  },
  {
   "cell_type": "markdown",
   "metadata": {},
   "source": [
    "# Explore"
   ]
  },
  {
   "cell_type": "code",
   "execution_count": 102,
   "metadata": {},
   "outputs": [],
   "source": [
    "# sns.scatterplot(data=LIB, x='n_chaps', y='book_len', hue='author')"
   ]
  },
  {
   "cell_type": "code",
   "execution_count": 103,
   "metadata": {},
   "outputs": [
    {
     "data": {
      "application/vnd.plotly.v1+json": {
       "config": {
        "plotlyServerURL": "https://plot.ly"
       },
       "data": [
        {
         "hovertemplate": "<b>%{hovertext}</b><br><br>author=WELLS, H.G<br>n_chaps=%{text}<br>book_len=%{marker.size}<extra></extra>",
         "hovertext": [
          "The Time Machine",
          "The Island of Doctor Moreau",
          "The Invisible Man A Grotesque Romance",
          "The War of the Worlds",
          "The First Men in the Moon",
          "The Sleeper Awakes",
          "The War in the Air",
          "The World Set Free",
          "Tono-Bungay",
          "A Modern Utopia"
         ],
         "legendgroup": "WELLS, H.G",
         "marker": {
          "color": "#636efa",
          "size": [
           32506,
           43782,
           48562,
           60129,
           68534,
           75981,
           98207,
           115742,
           134677,
           183804
          ],
          "sizemode": "area",
          "sizeref": 485.5725,
          "symbol": "circle"
         },
         "mode": "markers+text",
         "name": "WELLS, H.G",
         "orientation": "v",
         "showlegend": true,
         "text": [
          "17",
          "23",
          "28",
          "27",
          "26",
          "25",
          "11",
          "5",
          "14",
          "11"
         ],
         "type": "scatter",
         "x": [
          17,
          23,
          28,
          27,
          26,
          25,
          11,
          5,
          14,
          11
         ],
         "xaxis": "x",
         "y": [
          32506,
          43782,
          48562,
          60129,
          68534,
          75981,
          98207,
          115742,
          134677,
          183804
         ],
         "yaxis": "y"
        },
        {
         "hovertemplate": "<b>%{hovertext}</b><br><br>author=VERNE, JULES<br>n_chaps=%{text}<br>book_len=%{marker.size}<extra></extra>",
         "hovertext": [
          "From the Earth to the Moon",
          "The Underground City",
          "Around the World in Eighty Days",
          "A Journey to the Centre of the Earth",
          "Five Weeks in a Balloon",
          "Eight Hundred Leagues on the Amazon",
          "All Around the Moon",
          "Off on a Comet!",
          "Twenty Thousand Leagues under the Sea",
          "The Mysterious Island"
         ],
         "legendgroup": "VERNE, JULES",
         "marker": {
          "color": "#EF553B",
          "size": [
           40559,
           43662,
           63114,
           86039,
           90793,
           95162,
           97152,
           100671,
           103694,
           194229
          ],
          "sizemode": "area",
          "sizeref": 485.5725,
          "symbol": "circle"
         },
         "mode": "markers+text",
         "name": "VERNE, JULES",
         "orientation": "v",
         "showlegend": true,
         "text": [
          "28",
          "19",
          "37",
          "44",
          "44",
          "40",
          "24",
          "43",
          "46",
          "62"
         ],
         "type": "scatter",
         "x": [
          28,
          19,
          37,
          44,
          44,
          40,
          24,
          43,
          46,
          62
         ],
         "xaxis": "x",
         "y": [
          40559,
          43662,
          63114,
          86039,
          90793,
          95162,
          97152,
          100671,
          103694,
          194229
         ],
         "yaxis": "y"
        }
       ],
       "layout": {
        "height": 500,
        "legend": {
         "itemsizing": "constant",
         "title": {
          "text": "author"
         },
         "tracegroupgap": 0
        },
        "margin": {
         "t": 60
        },
        "template": {
         "data": {
          "bar": [
           {
            "error_x": {
             "color": "#2a3f5f"
            },
            "error_y": {
             "color": "#2a3f5f"
            },
            "marker": {
             "line": {
              "color": "#E5ECF6",
              "width": 0.5
             },
             "pattern": {
              "fillmode": "overlay",
              "size": 10,
              "solidity": 0.2
             }
            },
            "type": "bar"
           }
          ],
          "barpolar": [
           {
            "marker": {
             "line": {
              "color": "#E5ECF6",
              "width": 0.5
             },
             "pattern": {
              "fillmode": "overlay",
              "size": 10,
              "solidity": 0.2
             }
            },
            "type": "barpolar"
           }
          ],
          "carpet": [
           {
            "aaxis": {
             "endlinecolor": "#2a3f5f",
             "gridcolor": "white",
             "linecolor": "white",
             "minorgridcolor": "white",
             "startlinecolor": "#2a3f5f"
            },
            "baxis": {
             "endlinecolor": "#2a3f5f",
             "gridcolor": "white",
             "linecolor": "white",
             "minorgridcolor": "white",
             "startlinecolor": "#2a3f5f"
            },
            "type": "carpet"
           }
          ],
          "choropleth": [
           {
            "colorbar": {
             "outlinewidth": 0,
             "ticks": ""
            },
            "type": "choropleth"
           }
          ],
          "contour": [
           {
            "colorbar": {
             "outlinewidth": 0,
             "ticks": ""
            },
            "colorscale": [
             [
              0,
              "#0d0887"
             ],
             [
              0.1111111111111111,
              "#46039f"
             ],
             [
              0.2222222222222222,
              "#7201a8"
             ],
             [
              0.3333333333333333,
              "#9c179e"
             ],
             [
              0.4444444444444444,
              "#bd3786"
             ],
             [
              0.5555555555555556,
              "#d8576b"
             ],
             [
              0.6666666666666666,
              "#ed7953"
             ],
             [
              0.7777777777777778,
              "#fb9f3a"
             ],
             [
              0.8888888888888888,
              "#fdca26"
             ],
             [
              1,
              "#f0f921"
             ]
            ],
            "type": "contour"
           }
          ],
          "contourcarpet": [
           {
            "colorbar": {
             "outlinewidth": 0,
             "ticks": ""
            },
            "type": "contourcarpet"
           }
          ],
          "heatmap": [
           {
            "colorbar": {
             "outlinewidth": 0,
             "ticks": ""
            },
            "colorscale": [
             [
              0,
              "#0d0887"
             ],
             [
              0.1111111111111111,
              "#46039f"
             ],
             [
              0.2222222222222222,
              "#7201a8"
             ],
             [
              0.3333333333333333,
              "#9c179e"
             ],
             [
              0.4444444444444444,
              "#bd3786"
             ],
             [
              0.5555555555555556,
              "#d8576b"
             ],
             [
              0.6666666666666666,
              "#ed7953"
             ],
             [
              0.7777777777777778,
              "#fb9f3a"
             ],
             [
              0.8888888888888888,
              "#fdca26"
             ],
             [
              1,
              "#f0f921"
             ]
            ],
            "type": "heatmap"
           }
          ],
          "heatmapgl": [
           {
            "colorbar": {
             "outlinewidth": 0,
             "ticks": ""
            },
            "colorscale": [
             [
              0,
              "#0d0887"
             ],
             [
              0.1111111111111111,
              "#46039f"
             ],
             [
              0.2222222222222222,
              "#7201a8"
             ],
             [
              0.3333333333333333,
              "#9c179e"
             ],
             [
              0.4444444444444444,
              "#bd3786"
             ],
             [
              0.5555555555555556,
              "#d8576b"
             ],
             [
              0.6666666666666666,
              "#ed7953"
             ],
             [
              0.7777777777777778,
              "#fb9f3a"
             ],
             [
              0.8888888888888888,
              "#fdca26"
             ],
             [
              1,
              "#f0f921"
             ]
            ],
            "type": "heatmapgl"
           }
          ],
          "histogram": [
           {
            "marker": {
             "pattern": {
              "fillmode": "overlay",
              "size": 10,
              "solidity": 0.2
             }
            },
            "type": "histogram"
           }
          ],
          "histogram2d": [
           {
            "colorbar": {
             "outlinewidth": 0,
             "ticks": ""
            },
            "colorscale": [
             [
              0,
              "#0d0887"
             ],
             [
              0.1111111111111111,
              "#46039f"
             ],
             [
              0.2222222222222222,
              "#7201a8"
             ],
             [
              0.3333333333333333,
              "#9c179e"
             ],
             [
              0.4444444444444444,
              "#bd3786"
             ],
             [
              0.5555555555555556,
              "#d8576b"
             ],
             [
              0.6666666666666666,
              "#ed7953"
             ],
             [
              0.7777777777777778,
              "#fb9f3a"
             ],
             [
              0.8888888888888888,
              "#fdca26"
             ],
             [
              1,
              "#f0f921"
             ]
            ],
            "type": "histogram2d"
           }
          ],
          "histogram2dcontour": [
           {
            "colorbar": {
             "outlinewidth": 0,
             "ticks": ""
            },
            "colorscale": [
             [
              0,
              "#0d0887"
             ],
             [
              0.1111111111111111,
              "#46039f"
             ],
             [
              0.2222222222222222,
              "#7201a8"
             ],
             [
              0.3333333333333333,
              "#9c179e"
             ],
             [
              0.4444444444444444,
              "#bd3786"
             ],
             [
              0.5555555555555556,
              "#d8576b"
             ],
             [
              0.6666666666666666,
              "#ed7953"
             ],
             [
              0.7777777777777778,
              "#fb9f3a"
             ],
             [
              0.8888888888888888,
              "#fdca26"
             ],
             [
              1,
              "#f0f921"
             ]
            ],
            "type": "histogram2dcontour"
           }
          ],
          "mesh3d": [
           {
            "colorbar": {
             "outlinewidth": 0,
             "ticks": ""
            },
            "type": "mesh3d"
           }
          ],
          "parcoords": [
           {
            "line": {
             "colorbar": {
              "outlinewidth": 0,
              "ticks": ""
             }
            },
            "type": "parcoords"
           }
          ],
          "pie": [
           {
            "automargin": true,
            "type": "pie"
           }
          ],
          "scatter": [
           {
            "marker": {
             "colorbar": {
              "outlinewidth": 0,
              "ticks": ""
             }
            },
            "type": "scatter"
           }
          ],
          "scatter3d": [
           {
            "line": {
             "colorbar": {
              "outlinewidth": 0,
              "ticks": ""
             }
            },
            "marker": {
             "colorbar": {
              "outlinewidth": 0,
              "ticks": ""
             }
            },
            "type": "scatter3d"
           }
          ],
          "scattercarpet": [
           {
            "marker": {
             "colorbar": {
              "outlinewidth": 0,
              "ticks": ""
             }
            },
            "type": "scattercarpet"
           }
          ],
          "scattergeo": [
           {
            "marker": {
             "colorbar": {
              "outlinewidth": 0,
              "ticks": ""
             }
            },
            "type": "scattergeo"
           }
          ],
          "scattergl": [
           {
            "marker": {
             "colorbar": {
              "outlinewidth": 0,
              "ticks": ""
             }
            },
            "type": "scattergl"
           }
          ],
          "scattermapbox": [
           {
            "marker": {
             "colorbar": {
              "outlinewidth": 0,
              "ticks": ""
             }
            },
            "type": "scattermapbox"
           }
          ],
          "scatterpolar": [
           {
            "marker": {
             "colorbar": {
              "outlinewidth": 0,
              "ticks": ""
             }
            },
            "type": "scatterpolar"
           }
          ],
          "scatterpolargl": [
           {
            "marker": {
             "colorbar": {
              "outlinewidth": 0,
              "ticks": ""
             }
            },
            "type": "scatterpolargl"
           }
          ],
          "scatterternary": [
           {
            "marker": {
             "colorbar": {
              "outlinewidth": 0,
              "ticks": ""
             }
            },
            "type": "scatterternary"
           }
          ],
          "surface": [
           {
            "colorbar": {
             "outlinewidth": 0,
             "ticks": ""
            },
            "colorscale": [
             [
              0,
              "#0d0887"
             ],
             [
              0.1111111111111111,
              "#46039f"
             ],
             [
              0.2222222222222222,
              "#7201a8"
             ],
             [
              0.3333333333333333,
              "#9c179e"
             ],
             [
              0.4444444444444444,
              "#bd3786"
             ],
             [
              0.5555555555555556,
              "#d8576b"
             ],
             [
              0.6666666666666666,
              "#ed7953"
             ],
             [
              0.7777777777777778,
              "#fb9f3a"
             ],
             [
              0.8888888888888888,
              "#fdca26"
             ],
             [
              1,
              "#f0f921"
             ]
            ],
            "type": "surface"
           }
          ],
          "table": [
           {
            "cells": {
             "fill": {
              "color": "#EBF0F8"
             },
             "line": {
              "color": "white"
             }
            },
            "header": {
             "fill": {
              "color": "#C8D4E3"
             },
             "line": {
              "color": "white"
             }
            },
            "type": "table"
           }
          ]
         },
         "layout": {
          "annotationdefaults": {
           "arrowcolor": "#2a3f5f",
           "arrowhead": 0,
           "arrowwidth": 1
          },
          "autotypenumbers": "strict",
          "coloraxis": {
           "colorbar": {
            "outlinewidth": 0,
            "ticks": ""
           }
          },
          "colorscale": {
           "diverging": [
            [
             0,
             "#8e0152"
            ],
            [
             0.1,
             "#c51b7d"
            ],
            [
             0.2,
             "#de77ae"
            ],
            [
             0.3,
             "#f1b6da"
            ],
            [
             0.4,
             "#fde0ef"
            ],
            [
             0.5,
             "#f7f7f7"
            ],
            [
             0.6,
             "#e6f5d0"
            ],
            [
             0.7,
             "#b8e186"
            ],
            [
             0.8,
             "#7fbc41"
            ],
            [
             0.9,
             "#4d9221"
            ],
            [
             1,
             "#276419"
            ]
           ],
           "sequential": [
            [
             0,
             "#0d0887"
            ],
            [
             0.1111111111111111,
             "#46039f"
            ],
            [
             0.2222222222222222,
             "#7201a8"
            ],
            [
             0.3333333333333333,
             "#9c179e"
            ],
            [
             0.4444444444444444,
             "#bd3786"
            ],
            [
             0.5555555555555556,
             "#d8576b"
            ],
            [
             0.6666666666666666,
             "#ed7953"
            ],
            [
             0.7777777777777778,
             "#fb9f3a"
            ],
            [
             0.8888888888888888,
             "#fdca26"
            ],
            [
             1,
             "#f0f921"
            ]
           ],
           "sequentialminus": [
            [
             0,
             "#0d0887"
            ],
            [
             0.1111111111111111,
             "#46039f"
            ],
            [
             0.2222222222222222,
             "#7201a8"
            ],
            [
             0.3333333333333333,
             "#9c179e"
            ],
            [
             0.4444444444444444,
             "#bd3786"
            ],
            [
             0.5555555555555556,
             "#d8576b"
            ],
            [
             0.6666666666666666,
             "#ed7953"
            ],
            [
             0.7777777777777778,
             "#fb9f3a"
            ],
            [
             0.8888888888888888,
             "#fdca26"
            ],
            [
             1,
             "#f0f921"
            ]
           ]
          },
          "colorway": [
           "#636efa",
           "#EF553B",
           "#00cc96",
           "#ab63fa",
           "#FFA15A",
           "#19d3f3",
           "#FF6692",
           "#B6E880",
           "#FF97FF",
           "#FECB52"
          ],
          "font": {
           "color": "#2a3f5f"
          },
          "geo": {
           "bgcolor": "white",
           "lakecolor": "white",
           "landcolor": "#E5ECF6",
           "showlakes": true,
           "showland": true,
           "subunitcolor": "white"
          },
          "hoverlabel": {
           "align": "left"
          },
          "hovermode": "closest",
          "mapbox": {
           "style": "light"
          },
          "paper_bgcolor": "white",
          "plot_bgcolor": "#E5ECF6",
          "polar": {
           "angularaxis": {
            "gridcolor": "white",
            "linecolor": "white",
            "ticks": ""
           },
           "bgcolor": "#E5ECF6",
           "radialaxis": {
            "gridcolor": "white",
            "linecolor": "white",
            "ticks": ""
           }
          },
          "scene": {
           "xaxis": {
            "backgroundcolor": "#E5ECF6",
            "gridcolor": "white",
            "gridwidth": 2,
            "linecolor": "white",
            "showbackground": true,
            "ticks": "",
            "zerolinecolor": "white"
           },
           "yaxis": {
            "backgroundcolor": "#E5ECF6",
            "gridcolor": "white",
            "gridwidth": 2,
            "linecolor": "white",
            "showbackground": true,
            "ticks": "",
            "zerolinecolor": "white"
           },
           "zaxis": {
            "backgroundcolor": "#E5ECF6",
            "gridcolor": "white",
            "gridwidth": 2,
            "linecolor": "white",
            "showbackground": true,
            "ticks": "",
            "zerolinecolor": "white"
           }
          },
          "shapedefaults": {
           "line": {
            "color": "#2a3f5f"
           }
          },
          "ternary": {
           "aaxis": {
            "gridcolor": "white",
            "linecolor": "white",
            "ticks": ""
           },
           "baxis": {
            "gridcolor": "white",
            "linecolor": "white",
            "ticks": ""
           },
           "bgcolor": "#E5ECF6",
           "caxis": {
            "gridcolor": "white",
            "linecolor": "white",
            "ticks": ""
           }
          },
          "title": {
           "x": 0.05
          },
          "xaxis": {
           "automargin": true,
           "gridcolor": "white",
           "linecolor": "white",
           "ticks": "",
           "title": {
            "standoff": 15
           },
           "zerolinecolor": "white",
           "zerolinewidth": 2
          },
          "yaxis": {
           "automargin": true,
           "gridcolor": "white",
           "linecolor": "white",
           "ticks": "",
           "title": {
            "standoff": 15
           },
           "zerolinecolor": "white",
           "zerolinewidth": 2
          }
         }
        },
        "width": 800,
        "xaxis": {
         "anchor": "y",
         "autorange": true,
         "domain": [
          0,
          1
         ],
         "range": [
          0.20378166208304016,
          67.22317774620997
         ],
         "title": {
          "text": "n_chaps"
         },
         "type": "linear"
        },
        "yaxis": {
         "anchor": "x",
         "autorange": true,
         "domain": [
          0,
          1
         ],
         "range": [
          19390.87765037357,
          212352.0105298878
         ],
         "title": {
          "text": "book_len"
         },
         "type": "linear"
        }
       }
      },
      "text/html": [
       "<div>                            <div id=\"0473a502-c6ab-44d1-819a-3535c8f2288d\" class=\"plotly-graph-div\" style=\"height:500px; width:800px;\"></div>            <script type=\"text/javascript\">                require([\"plotly\"], function(Plotly) {                    window.PLOTLYENV=window.PLOTLYENV || {};                                    if (document.getElementById(\"0473a502-c6ab-44d1-819a-3535c8f2288d\")) {                    Plotly.newPlot(                        \"0473a502-c6ab-44d1-819a-3535c8f2288d\",                        [{\"hovertemplate\":\"<b>%{hovertext}</b><br><br>author=WELLS, H.G<br>n_chaps=%{text}<br>book_len=%{marker.size}<extra></extra>\",\"hovertext\":[\"The Time Machine\",\"The Island of Doctor Moreau\",\"The Invisible Man A Grotesque Romance\",\"The War of the Worlds\",\"The First Men in the Moon\",\"The Sleeper Awakes\",\"The War in the Air\",\"The World Set Free\",\"Tono-Bungay\",\"A Modern Utopia\"],\"legendgroup\":\"WELLS, H.G\",\"marker\":{\"color\":\"#636efa\",\"size\":[32506,43782,48562,60129,68534,75981,98207,115742,134677,183804],\"sizemode\":\"area\",\"sizeref\":485.5725,\"symbol\":\"circle\"},\"mode\":\"markers+text\",\"name\":\"WELLS, H.G\",\"orientation\":\"v\",\"showlegend\":true,\"text\":[\"17\",\"23\",\"28\",\"27\",\"26\",\"25\",\"11\",\"5\",\"14\",\"11\"],\"type\":\"scatter\",\"x\":[17,23,28,27,26,25,11,5,14,11],\"xaxis\":\"x\",\"y\":[32506,43782,48562,60129,68534,75981,98207,115742,134677,183804],\"yaxis\":\"y\"},{\"hovertemplate\":\"<b>%{hovertext}</b><br><br>author=VERNE, JULES<br>n_chaps=%{text}<br>book_len=%{marker.size}<extra></extra>\",\"hovertext\":[\"From the Earth to the Moon\",\"The Underground City\",\"Around the World in Eighty Days\",\"A Journey to the Centre of the Earth\",\"Five Weeks in a Balloon\",\"Eight Hundred Leagues on the Amazon\",\"All Around the Moon\",\"Off on a Comet!\",\"Twenty Thousand Leagues under the Sea\",\"The Mysterious Island\"],\"legendgroup\":\"VERNE, JULES\",\"marker\":{\"color\":\"#EF553B\",\"size\":[40559,43662,63114,86039,90793,95162,97152,100671,103694,194229],\"sizemode\":\"area\",\"sizeref\":485.5725,\"symbol\":\"circle\"},\"mode\":\"markers+text\",\"name\":\"VERNE, JULES\",\"orientation\":\"v\",\"showlegend\":true,\"text\":[\"28\",\"19\",\"37\",\"44\",\"44\",\"40\",\"24\",\"43\",\"46\",\"62\"],\"type\":\"scatter\",\"x\":[28,19,37,44,44,40,24,43,46,62],\"xaxis\":\"x\",\"y\":[40559,43662,63114,86039,90793,95162,97152,100671,103694,194229],\"yaxis\":\"y\"}],                        {\"height\":500,\"legend\":{\"itemsizing\":\"constant\",\"title\":{\"text\":\"author\"},\"tracegroupgap\":0},\"margin\":{\"t\":60},\"template\":{\"data\":{\"bar\":[{\"error_x\":{\"color\":\"#2a3f5f\"},\"error_y\":{\"color\":\"#2a3f5f\"},\"marker\":{\"line\":{\"color\":\"#E5ECF6\",\"width\":0.5},\"pattern\":{\"fillmode\":\"overlay\",\"size\":10,\"solidity\":0.2}},\"type\":\"bar\"}],\"barpolar\":[{\"marker\":{\"line\":{\"color\":\"#E5ECF6\",\"width\":0.5},\"pattern\":{\"fillmode\":\"overlay\",\"size\":10,\"solidity\":0.2}},\"type\":\"barpolar\"}],\"carpet\":[{\"aaxis\":{\"endlinecolor\":\"#2a3f5f\",\"gridcolor\":\"white\",\"linecolor\":\"white\",\"minorgridcolor\":\"white\",\"startlinecolor\":\"#2a3f5f\"},\"baxis\":{\"endlinecolor\":\"#2a3f5f\",\"gridcolor\":\"white\",\"linecolor\":\"white\",\"minorgridcolor\":\"white\",\"startlinecolor\":\"#2a3f5f\"},\"type\":\"carpet\"}],\"choropleth\":[{\"colorbar\":{\"outlinewidth\":0,\"ticks\":\"\"},\"type\":\"choropleth\"}],\"contour\":[{\"colorbar\":{\"outlinewidth\":0,\"ticks\":\"\"},\"colorscale\":[[0.0,\"#0d0887\"],[0.1111111111111111,\"#46039f\"],[0.2222222222222222,\"#7201a8\"],[0.3333333333333333,\"#9c179e\"],[0.4444444444444444,\"#bd3786\"],[0.5555555555555556,\"#d8576b\"],[0.6666666666666666,\"#ed7953\"],[0.7777777777777778,\"#fb9f3a\"],[0.8888888888888888,\"#fdca26\"],[1.0,\"#f0f921\"]],\"type\":\"contour\"}],\"contourcarpet\":[{\"colorbar\":{\"outlinewidth\":0,\"ticks\":\"\"},\"type\":\"contourcarpet\"}],\"heatmap\":[{\"colorbar\":{\"outlinewidth\":0,\"ticks\":\"\"},\"colorscale\":[[0.0,\"#0d0887\"],[0.1111111111111111,\"#46039f\"],[0.2222222222222222,\"#7201a8\"],[0.3333333333333333,\"#9c179e\"],[0.4444444444444444,\"#bd3786\"],[0.5555555555555556,\"#d8576b\"],[0.6666666666666666,\"#ed7953\"],[0.7777777777777778,\"#fb9f3a\"],[0.8888888888888888,\"#fdca26\"],[1.0,\"#f0f921\"]],\"type\":\"heatmap\"}],\"heatmapgl\":[{\"colorbar\":{\"outlinewidth\":0,\"ticks\":\"\"},\"colorscale\":[[0.0,\"#0d0887\"],[0.1111111111111111,\"#46039f\"],[0.2222222222222222,\"#7201a8\"],[0.3333333333333333,\"#9c179e\"],[0.4444444444444444,\"#bd3786\"],[0.5555555555555556,\"#d8576b\"],[0.6666666666666666,\"#ed7953\"],[0.7777777777777778,\"#fb9f3a\"],[0.8888888888888888,\"#fdca26\"],[1.0,\"#f0f921\"]],\"type\":\"heatmapgl\"}],\"histogram\":[{\"marker\":{\"pattern\":{\"fillmode\":\"overlay\",\"size\":10,\"solidity\":0.2}},\"type\":\"histogram\"}],\"histogram2d\":[{\"colorbar\":{\"outlinewidth\":0,\"ticks\":\"\"},\"colorscale\":[[0.0,\"#0d0887\"],[0.1111111111111111,\"#46039f\"],[0.2222222222222222,\"#7201a8\"],[0.3333333333333333,\"#9c179e\"],[0.4444444444444444,\"#bd3786\"],[0.5555555555555556,\"#d8576b\"],[0.6666666666666666,\"#ed7953\"],[0.7777777777777778,\"#fb9f3a\"],[0.8888888888888888,\"#fdca26\"],[1.0,\"#f0f921\"]],\"type\":\"histogram2d\"}],\"histogram2dcontour\":[{\"colorbar\":{\"outlinewidth\":0,\"ticks\":\"\"},\"colorscale\":[[0.0,\"#0d0887\"],[0.1111111111111111,\"#46039f\"],[0.2222222222222222,\"#7201a8\"],[0.3333333333333333,\"#9c179e\"],[0.4444444444444444,\"#bd3786\"],[0.5555555555555556,\"#d8576b\"],[0.6666666666666666,\"#ed7953\"],[0.7777777777777778,\"#fb9f3a\"],[0.8888888888888888,\"#fdca26\"],[1.0,\"#f0f921\"]],\"type\":\"histogram2dcontour\"}],\"mesh3d\":[{\"colorbar\":{\"outlinewidth\":0,\"ticks\":\"\"},\"type\":\"mesh3d\"}],\"parcoords\":[{\"line\":{\"colorbar\":{\"outlinewidth\":0,\"ticks\":\"\"}},\"type\":\"parcoords\"}],\"pie\":[{\"automargin\":true,\"type\":\"pie\"}],\"scatter\":[{\"marker\":{\"colorbar\":{\"outlinewidth\":0,\"ticks\":\"\"}},\"type\":\"scatter\"}],\"scatter3d\":[{\"line\":{\"colorbar\":{\"outlinewidth\":0,\"ticks\":\"\"}},\"marker\":{\"colorbar\":{\"outlinewidth\":0,\"ticks\":\"\"}},\"type\":\"scatter3d\"}],\"scattercarpet\":[{\"marker\":{\"colorbar\":{\"outlinewidth\":0,\"ticks\":\"\"}},\"type\":\"scattercarpet\"}],\"scattergeo\":[{\"marker\":{\"colorbar\":{\"outlinewidth\":0,\"ticks\":\"\"}},\"type\":\"scattergeo\"}],\"scattergl\":[{\"marker\":{\"colorbar\":{\"outlinewidth\":0,\"ticks\":\"\"}},\"type\":\"scattergl\"}],\"scattermapbox\":[{\"marker\":{\"colorbar\":{\"outlinewidth\":0,\"ticks\":\"\"}},\"type\":\"scattermapbox\"}],\"scatterpolar\":[{\"marker\":{\"colorbar\":{\"outlinewidth\":0,\"ticks\":\"\"}},\"type\":\"scatterpolar\"}],\"scatterpolargl\":[{\"marker\":{\"colorbar\":{\"outlinewidth\":0,\"ticks\":\"\"}},\"type\":\"scatterpolargl\"}],\"scatterternary\":[{\"marker\":{\"colorbar\":{\"outlinewidth\":0,\"ticks\":\"\"}},\"type\":\"scatterternary\"}],\"surface\":[{\"colorbar\":{\"outlinewidth\":0,\"ticks\":\"\"},\"colorscale\":[[0.0,\"#0d0887\"],[0.1111111111111111,\"#46039f\"],[0.2222222222222222,\"#7201a8\"],[0.3333333333333333,\"#9c179e\"],[0.4444444444444444,\"#bd3786\"],[0.5555555555555556,\"#d8576b\"],[0.6666666666666666,\"#ed7953\"],[0.7777777777777778,\"#fb9f3a\"],[0.8888888888888888,\"#fdca26\"],[1.0,\"#f0f921\"]],\"type\":\"surface\"}],\"table\":[{\"cells\":{\"fill\":{\"color\":\"#EBF0F8\"},\"line\":{\"color\":\"white\"}},\"header\":{\"fill\":{\"color\":\"#C8D4E3\"},\"line\":{\"color\":\"white\"}},\"type\":\"table\"}]},\"layout\":{\"annotationdefaults\":{\"arrowcolor\":\"#2a3f5f\",\"arrowhead\":0,\"arrowwidth\":1},\"autotypenumbers\":\"strict\",\"coloraxis\":{\"colorbar\":{\"outlinewidth\":0,\"ticks\":\"\"}},\"colorscale\":{\"diverging\":[[0,\"#8e0152\"],[0.1,\"#c51b7d\"],[0.2,\"#de77ae\"],[0.3,\"#f1b6da\"],[0.4,\"#fde0ef\"],[0.5,\"#f7f7f7\"],[0.6,\"#e6f5d0\"],[0.7,\"#b8e186\"],[0.8,\"#7fbc41\"],[0.9,\"#4d9221\"],[1,\"#276419\"]],\"sequential\":[[0.0,\"#0d0887\"],[0.1111111111111111,\"#46039f\"],[0.2222222222222222,\"#7201a8\"],[0.3333333333333333,\"#9c179e\"],[0.4444444444444444,\"#bd3786\"],[0.5555555555555556,\"#d8576b\"],[0.6666666666666666,\"#ed7953\"],[0.7777777777777778,\"#fb9f3a\"],[0.8888888888888888,\"#fdca26\"],[1.0,\"#f0f921\"]],\"sequentialminus\":[[0.0,\"#0d0887\"],[0.1111111111111111,\"#46039f\"],[0.2222222222222222,\"#7201a8\"],[0.3333333333333333,\"#9c179e\"],[0.4444444444444444,\"#bd3786\"],[0.5555555555555556,\"#d8576b\"],[0.6666666666666666,\"#ed7953\"],[0.7777777777777778,\"#fb9f3a\"],[0.8888888888888888,\"#fdca26\"],[1.0,\"#f0f921\"]]},\"colorway\":[\"#636efa\",\"#EF553B\",\"#00cc96\",\"#ab63fa\",\"#FFA15A\",\"#19d3f3\",\"#FF6692\",\"#B6E880\",\"#FF97FF\",\"#FECB52\"],\"font\":{\"color\":\"#2a3f5f\"},\"geo\":{\"bgcolor\":\"white\",\"lakecolor\":\"white\",\"landcolor\":\"#E5ECF6\",\"showlakes\":true,\"showland\":true,\"subunitcolor\":\"white\"},\"hoverlabel\":{\"align\":\"left\"},\"hovermode\":\"closest\",\"mapbox\":{\"style\":\"light\"},\"paper_bgcolor\":\"white\",\"plot_bgcolor\":\"#E5ECF6\",\"polar\":{\"angularaxis\":{\"gridcolor\":\"white\",\"linecolor\":\"white\",\"ticks\":\"\"},\"bgcolor\":\"#E5ECF6\",\"radialaxis\":{\"gridcolor\":\"white\",\"linecolor\":\"white\",\"ticks\":\"\"}},\"scene\":{\"xaxis\":{\"backgroundcolor\":\"#E5ECF6\",\"gridcolor\":\"white\",\"gridwidth\":2,\"linecolor\":\"white\",\"showbackground\":true,\"ticks\":\"\",\"zerolinecolor\":\"white\"},\"yaxis\":{\"backgroundcolor\":\"#E5ECF6\",\"gridcolor\":\"white\",\"gridwidth\":2,\"linecolor\":\"white\",\"showbackground\":true,\"ticks\":\"\",\"zerolinecolor\":\"white\"},\"zaxis\":{\"backgroundcolor\":\"#E5ECF6\",\"gridcolor\":\"white\",\"gridwidth\":2,\"linecolor\":\"white\",\"showbackground\":true,\"ticks\":\"\",\"zerolinecolor\":\"white\"}},\"shapedefaults\":{\"line\":{\"color\":\"#2a3f5f\"}},\"ternary\":{\"aaxis\":{\"gridcolor\":\"white\",\"linecolor\":\"white\",\"ticks\":\"\"},\"baxis\":{\"gridcolor\":\"white\",\"linecolor\":\"white\",\"ticks\":\"\"},\"bgcolor\":\"#E5ECF6\",\"caxis\":{\"gridcolor\":\"white\",\"linecolor\":\"white\",\"ticks\":\"\"}},\"title\":{\"x\":0.05},\"xaxis\":{\"automargin\":true,\"gridcolor\":\"white\",\"linecolor\":\"white\",\"ticks\":\"\",\"title\":{\"standoff\":15},\"zerolinecolor\":\"white\",\"zerolinewidth\":2},\"yaxis\":{\"automargin\":true,\"gridcolor\":\"white\",\"linecolor\":\"white\",\"ticks\":\"\",\"title\":{\"standoff\":15},\"zerolinecolor\":\"white\",\"zerolinewidth\":2}}},\"width\":800,\"xaxis\":{\"anchor\":\"y\",\"domain\":[0.0,1.0],\"title\":{\"text\":\"n_chaps\"}},\"yaxis\":{\"anchor\":\"x\",\"domain\":[0.0,1.0],\"title\":{\"text\":\"book_len\"}}},                        {\"responsive\": true}                    ).then(function(){\n",
       "                            \n",
       "var gd = document.getElementById('0473a502-c6ab-44d1-819a-3535c8f2288d');\n",
       "var x = new MutationObserver(function (mutations, observer) {{\n",
       "        var display = window.getComputedStyle(gd).display;\n",
       "        if (!display || display === 'none') {{\n",
       "            console.log([gd, 'removed!']);\n",
       "            Plotly.purge(gd);\n",
       "            observer.disconnect();\n",
       "        }}\n",
       "}});\n",
       "\n",
       "// Listen for the removal of the full notebook cells\n",
       "var notebookContainer = gd.closest('#notebook-container');\n",
       "if (notebookContainer) {{\n",
       "    x.observe(notebookContainer, {childList: true});\n",
       "}}\n",
       "\n",
       "// Listen for the clearing of the current output cell\n",
       "var outputEl = gd.closest('.output');\n",
       "if (outputEl) {{\n",
       "    x.observe(outputEl, {childList: true});\n",
       "}}\n",
       "\n",
       "                        })                };                });            </script>        </div>"
      ]
     },
     "metadata": {},
     "output_type": "display_data"
    }
   ],
   "source": [
    "px.scatter(LIB[LIB.chap_regex.notnull()], 'n_chaps', 'book_len', color='author', text='n_chaps', size='book_len', hover_name='title', width=800, height=500) "
   ]
  },
  {
   "cell_type": "code",
   "execution_count": 104,
   "metadata": {},
   "outputs": [
    {
     "data": {
      "text/html": [
       "<div>\n",
       "<style scoped>\n",
       "    .dataframe tbody tr th:only-of-type {\n",
       "        vertical-align: middle;\n",
       "    }\n",
       "\n",
       "    .dataframe tbody tr th {\n",
       "        vertical-align: top;\n",
       "    }\n",
       "\n",
       "    .dataframe thead th {\n",
       "        text-align: right;\n",
       "    }\n",
       "</style>\n",
       "<table border=\"1\" class=\"dataframe\">\n",
       "  <thead>\n",
       "    <tr style=\"text-align: right;\">\n",
       "      <th></th>\n",
       "      <th>book_len</th>\n",
       "      <th>n_chaps</th>\n",
       "    </tr>\n",
       "    <tr>\n",
       "      <th>author</th>\n",
       "      <th></th>\n",
       "      <th></th>\n",
       "    </tr>\n",
       "  </thead>\n",
       "  <tbody>\n",
       "    <tr>\n",
       "      <th>VERNE, JULES</th>\n",
       "      <td>91507.5</td>\n",
       "      <td>38.7</td>\n",
       "    </tr>\n",
       "    <tr>\n",
       "      <th>WELLS, H.G</th>\n",
       "      <td>86192.4</td>\n",
       "      <td>18.7</td>\n",
       "    </tr>\n",
       "  </tbody>\n",
       "</table>\n",
       "</div>"
      ],
      "text/plain": [
       "              book_len  n_chaps\n",
       "author                         \n",
       "VERNE, JULES   91507.5     38.7\n",
       "WELLS, H.G     86192.4     18.7"
      ]
     },
     "execution_count": 104,
     "metadata": {},
     "output_type": "execute_result"
    }
   ],
   "source": [
    "LIB.groupby('author').agg('mean')"
   ]
  },
  {
   "cell_type": "markdown",
   "metadata": {},
   "source": [
    "# Exract VOCAB\n",
    "\n",
    "Extract a vocabulary from the CORPUS as a whole"
   ]
  },
  {
   "cell_type": "markdown",
   "metadata": {},
   "source": [
    "## Handle Anomalies\n",
    "\n",
    "NLTK's POS tagger is not perfect -- note the classification of punctuation as nouns, verbs, etc. We remove these from our corups."
   ]
  },
  {
   "cell_type": "code",
   "execution_count": 105,
   "metadata": {},
   "outputs": [
    {
     "data": {
      "text/html": [
       "<div>\n",
       "<style scoped>\n",
       "    .dataframe tbody tr th:only-of-type {\n",
       "        vertical-align: middle;\n",
       "    }\n",
       "\n",
       "    .dataframe tbody tr th {\n",
       "        vertical-align: top;\n",
       "    }\n",
       "\n",
       "    .dataframe thead th {\n",
       "        text-align: right;\n",
       "    }\n",
       "</style>\n",
       "<table border=\"1\" class=\"dataframe\">\n",
       "  <thead>\n",
       "    <tr style=\"text-align: right;\">\n",
       "      <th></th>\n",
       "      <th></th>\n",
       "      <th></th>\n",
       "      <th></th>\n",
       "      <th></th>\n",
       "      <th>pos_tuple</th>\n",
       "      <th>pos</th>\n",
       "      <th>token_str</th>\n",
       "      <th>term_str</th>\n",
       "    </tr>\n",
       "    <tr>\n",
       "      <th>book_id</th>\n",
       "      <th>chap_id</th>\n",
       "      <th>para_num</th>\n",
       "      <th>sent_num</th>\n",
       "      <th>token_num</th>\n",
       "      <th></th>\n",
       "      <th></th>\n",
       "      <th></th>\n",
       "      <th></th>\n",
       "    </tr>\n",
       "  </thead>\n",
       "  <tbody>\n",
       "    <tr>\n",
       "      <th rowspan=\"5\" valign=\"top\">35</th>\n",
       "      <th rowspan=\"2\" valign=\"top\">3</th>\n",
       "      <th rowspan=\"2\" valign=\"top\">22</th>\n",
       "      <th rowspan=\"2\" valign=\"top\">8</th>\n",
       "      <th>11</th>\n",
       "      <td>(…, NNP)</td>\n",
       "      <td>NNP</td>\n",
       "      <td>…</td>\n",
       "      <td></td>\n",
       "    </tr>\n",
       "    <tr>\n",
       "      <th>16</th>\n",
       "      <td>(…, VB)</td>\n",
       "      <td>VB</td>\n",
       "      <td>…</td>\n",
       "      <td></td>\n",
       "    </tr>\n",
       "    <tr>\n",
       "      <th>9</th>\n",
       "      <th>12</th>\n",
       "      <th>7</th>\n",
       "      <th>5</th>\n",
       "      <td>(…, NN)</td>\n",
       "      <td>NN</td>\n",
       "      <td>…</td>\n",
       "      <td></td>\n",
       "    </tr>\n",
       "    <tr>\n",
       "      <th rowspan=\"2\" valign=\"top\">16</th>\n",
       "      <th>15</th>\n",
       "      <th>10</th>\n",
       "      <th>0</th>\n",
       "      <td>(…, NN)</td>\n",
       "      <td>NN</td>\n",
       "      <td>…</td>\n",
       "      <td></td>\n",
       "    </tr>\n",
       "    <tr>\n",
       "      <th>25</th>\n",
       "      <th>2</th>\n",
       "      <th>2</th>\n",
       "      <td>(——, NNP)</td>\n",
       "      <td>NNP</td>\n",
       "      <td>——</td>\n",
       "      <td></td>\n",
       "    </tr>\n",
       "    <tr>\n",
       "      <th>...</th>\n",
       "      <th>...</th>\n",
       "      <th>...</th>\n",
       "      <th>...</th>\n",
       "      <th>...</th>\n",
       "      <td>...</td>\n",
       "      <td>...</td>\n",
       "      <td>...</td>\n",
       "      <td>...</td>\n",
       "    </tr>\n",
       "    <tr>\n",
       "      <th rowspan=\"5\" valign=\"top\">44278</th>\n",
       "      <th rowspan=\"2\" valign=\"top\">12</th>\n",
       "      <th>28</th>\n",
       "      <th>7</th>\n",
       "      <th>1</th>\n",
       "      <td>(\", NN)</td>\n",
       "      <td>NN</td>\n",
       "      <td>\"</td>\n",
       "      <td></td>\n",
       "    </tr>\n",
       "    <tr>\n",
       "      <th>29</th>\n",
       "      <th>0</th>\n",
       "      <th>2</th>\n",
       "      <td>(\", NN)</td>\n",
       "      <td>NN</td>\n",
       "      <td>\"</td>\n",
       "      <td></td>\n",
       "    </tr>\n",
       "    <tr>\n",
       "      <th>20</th>\n",
       "      <th>55</th>\n",
       "      <th>1</th>\n",
       "      <th>10</th>\n",
       "      <td>(\", NN)</td>\n",
       "      <td>NN</td>\n",
       "      <td>\"</td>\n",
       "      <td></td>\n",
       "    </tr>\n",
       "    <tr>\n",
       "      <th rowspan=\"2\" valign=\"top\">21</th>\n",
       "      <th>58</th>\n",
       "      <th>0</th>\n",
       "      <th>19</th>\n",
       "      <td>(\", VBP)</td>\n",
       "      <td>VBP</td>\n",
       "      <td>\"</td>\n",
       "      <td></td>\n",
       "    </tr>\n",
       "    <tr>\n",
       "      <th>63</th>\n",
       "      <th>0</th>\n",
       "      <th>9</th>\n",
       "      <td>(\", VBP)</td>\n",
       "      <td>VBP</td>\n",
       "      <td>\"</td>\n",
       "      <td></td>\n",
       "    </tr>\n",
       "  </tbody>\n",
       "</table>\n",
       "<p>749 rows × 4 columns</p>\n",
       "</div>"
      ],
      "text/plain": [
       "                                             pos_tuple  pos token_str term_str\n",
       "book_id chap_id para_num sent_num token_num                                   \n",
       "35      3       22       8        11          (…, NNP)  NNP         …         \n",
       "                                  16           (…, VB)   VB         …         \n",
       "        9       12       7        5            (…, NN)   NN         …         \n",
       "        16      15       10       0            (…, NN)   NN         …         \n",
       "                25       2        2          (——, NNP)  NNP        ——         \n",
       "...                                                ...  ...       ...      ...\n",
       "44278   12      28       7        1            (\", NN)   NN         \"         \n",
       "                29       0        2            (\", NN)   NN         \"         \n",
       "        20      55       1        10           (\", NN)   NN         \"         \n",
       "        21      58       0        19          (\", VBP)  VBP         \"         \n",
       "                63       0        9           (\", VBP)  VBP         \"         \n",
       "\n",
       "[749 rows x 4 columns]"
      ]
     },
     "execution_count": 105,
     "metadata": {},
     "output_type": "execute_result"
    }
   ],
   "source": [
    "CORPUS[CORPUS.term_str == '']"
   ]
  },
  {
   "cell_type": "code",
   "execution_count": 106,
   "metadata": {},
   "outputs": [
    {
     "data": {
      "text/plain": [
       "\"                                               442\n",
       "=                                                77\n",
       "?\"                                               36\n",
       "”                                                35\n",
       "+                                                28\n",
       "*                                                25\n",
       "..........                                       24\n",
       "\"_                                               10\n",
       "!\"                                               10\n",
       ".”                                                5\n",
       "&                                                 5\n",
       "),                                                5\n",
       "...\"                                              5\n",
       ").                                                5\n",
       ".\"                                                5\n",
       "…                                                 4\n",
       ".............                                     3\n",
       ".’                                                2\n",
       "!_                                                2\n",
       "...’                                              2\n",
       "..............                                    2\n",
       "........                                          1\n",
       "],                                                1\n",
       "!”                                                1\n",
       "....................                              1\n",
       "'”                                                1\n",
       "———                                               1\n",
       ".........                                         1\n",
       ".................                                 1\n",
       "...................                               1\n",
       "............................................      1\n",
       "——                                                1\n",
       "\"&,\"                                              1\n",
       ",”                                                1\n",
       "):                                                1\n",
       "....                                              1\n",
       ".....                                             1\n",
       "‘”                                                1\n",
       "Name: token_str, dtype: int64"
      ]
     },
     "execution_count": 106,
     "metadata": {},
     "output_type": "execute_result"
    }
   ],
   "source": [
    "CORPUS[CORPUS.term_str == ''].token_str.value_counts()"
   ]
  },
  {
   "cell_type": "code",
   "execution_count": 107,
   "metadata": {},
   "outputs": [],
   "source": [
    "CORPUS = CORPUS[CORPUS.term_str != '']"
   ]
  },
  {
   "cell_type": "code",
   "execution_count": 108,
   "metadata": {},
   "outputs": [],
   "source": [
    "VOCAB = CORPUS.term_str.value_counts().to_frame('n').sort_index()\n",
    "VOCAB.index.name = 'term_str'\n",
    "VOCAB['n_chars'] = VOCAB.index.str.len()\n",
    "VOCAB['p'] = VOCAB.n / VOCAB.n.sum()\n",
    "VOCAB['i'] = -np.log2(VOCAB.p)"
   ]
  },
  {
   "cell_type": "markdown",
   "metadata": {
    "colab_type": "text",
    "id": "bDSH9L2TXGzH",
    "tags": []
   },
   "source": [
    "# Annotate VOCAB"
   ]
  },
  {
   "cell_type": "markdown",
   "metadata": {},
   "source": [
    "## Get Max POS\n",
    "\n",
    "Get the most frequently associated part-of-space category for each word."
   ]
  },
  {
   "cell_type": "code",
   "execution_count": 109,
   "metadata": {},
   "outputs": [],
   "source": [
    "VOCAB['max_pos'] = CORPUS[['term_str','pos']].value_counts().unstack(fill_value=0).idxmax(1)"
   ]
  },
  {
   "cell_type": "markdown",
   "metadata": {},
   "source": [
    "## Compute POS ambiguity\n",
    "\n",
    "How many POS categories are associated with each word?"
   ]
  },
  {
   "cell_type": "code",
   "execution_count": 110,
   "metadata": {},
   "outputs": [],
   "source": [
    "VOCAB['n_pos'] = CORPUS[['term_str','pos']].value_counts().unstack().count(1)"
   ]
  },
  {
   "cell_type": "code",
   "execution_count": 111,
   "metadata": {},
   "outputs": [],
   "source": [
    "VOCAB['cat_pos'] = CORPUS[['term_str','pos']].value_counts().to_frame('n').reset_index()\\\n",
    "    .groupby('term_str').pos.apply(lambda x: set(x))"
   ]
  },
  {
   "cell_type": "code",
   "execution_count": 112,
   "metadata": {},
   "outputs": [
    {
     "data": {
      "text/html": [
       "<div>\n",
       "<style scoped>\n",
       "    .dataframe tbody tr th:only-of-type {\n",
       "        vertical-align: middle;\n",
       "    }\n",
       "\n",
       "    .dataframe tbody tr th {\n",
       "        vertical-align: top;\n",
       "    }\n",
       "\n",
       "    .dataframe thead th {\n",
       "        text-align: right;\n",
       "    }\n",
       "</style>\n",
       "<table border=\"1\" class=\"dataframe\">\n",
       "  <thead>\n",
       "    <tr style=\"text-align: right;\">\n",
       "      <th></th>\n",
       "      <th>n</th>\n",
       "      <th>n_chars</th>\n",
       "      <th>p</th>\n",
       "      <th>i</th>\n",
       "      <th>max_pos</th>\n",
       "      <th>n_pos</th>\n",
       "      <th>cat_pos</th>\n",
       "    </tr>\n",
       "    <tr>\n",
       "      <th>term_str</th>\n",
       "      <th></th>\n",
       "      <th></th>\n",
       "      <th></th>\n",
       "      <th></th>\n",
       "      <th></th>\n",
       "      <th></th>\n",
       "      <th></th>\n",
       "    </tr>\n",
       "  </thead>\n",
       "  <tbody>\n",
       "    <tr>\n",
       "      <th>0</th>\n",
       "      <td>3</td>\n",
       "      <td>1</td>\n",
       "      <td>1.688951e-06</td>\n",
       "      <td>19.175441</td>\n",
       "      <td>CD</td>\n",
       "      <td>1</td>\n",
       "      <td>{CD}</td>\n",
       "    </tr>\n",
       "    <tr>\n",
       "      <th>000436</th>\n",
       "      <td>1</td>\n",
       "      <td>6</td>\n",
       "      <td>5.629838e-07</td>\n",
       "      <td>20.760403</td>\n",
       "      <td>NNP</td>\n",
       "      <td>1</td>\n",
       "      <td>{NNP}</td>\n",
       "    </tr>\n",
       "    <tr>\n",
       "      <th>016</th>\n",
       "      <td>1</td>\n",
       "      <td>3</td>\n",
       "      <td>5.629838e-07</td>\n",
       "      <td>20.760403</td>\n",
       "      <td>CD</td>\n",
       "      <td>1</td>\n",
       "      <td>{CD}</td>\n",
       "    </tr>\n",
       "    <tr>\n",
       "      <th>05</th>\n",
       "      <td>1</td>\n",
       "      <td>2</td>\n",
       "      <td>5.629838e-07</td>\n",
       "      <td>20.760403</td>\n",
       "      <td>CD</td>\n",
       "      <td>1</td>\n",
       "      <td>{CD}</td>\n",
       "    </tr>\n",
       "    <tr>\n",
       "      <th>092</th>\n",
       "      <td>1</td>\n",
       "      <td>3</td>\n",
       "      <td>5.629838e-07</td>\n",
       "      <td>20.760403</td>\n",
       "      <td>CD</td>\n",
       "      <td>1</td>\n",
       "      <td>{CD}</td>\n",
       "    </tr>\n",
       "    <tr>\n",
       "      <th>...</th>\n",
       "      <td>...</td>\n",
       "      <td>...</td>\n",
       "      <td>...</td>\n",
       "      <td>...</td>\n",
       "      <td>...</td>\n",
       "      <td>...</td>\n",
       "      <td>...</td>\n",
       "    </tr>\n",
       "    <tr>\n",
       "      <th>épicier</th>\n",
       "      <td>2</td>\n",
       "      <td>7</td>\n",
       "      <td>1.125968e-06</td>\n",
       "      <td>19.760403</td>\n",
       "      <td>JJ</td>\n",
       "      <td>1</td>\n",
       "      <td>{JJ}</td>\n",
       "    </tr>\n",
       "    <tr>\n",
       "      <th>ō</th>\n",
       "      <td>1</td>\n",
       "      <td>1</td>\n",
       "      <td>5.629838e-07</td>\n",
       "      <td>20.760403</td>\n",
       "      <td>NN</td>\n",
       "      <td>1</td>\n",
       "      <td>{NN}</td>\n",
       "    </tr>\n",
       "    <tr>\n",
       "      <th>œdipus</th>\n",
       "      <td>1</td>\n",
       "      <td>6</td>\n",
       "      <td>5.629838e-07</td>\n",
       "      <td>20.760403</td>\n",
       "      <td>NN</td>\n",
       "      <td>1</td>\n",
       "      <td>{NN}</td>\n",
       "    </tr>\n",
       "    <tr>\n",
       "      <th>α</th>\n",
       "      <td>1</td>\n",
       "      <td>1</td>\n",
       "      <td>5.629838e-07</td>\n",
       "      <td>20.760403</td>\n",
       "      <td>NNP</td>\n",
       "      <td>1</td>\n",
       "      <td>{NNP}</td>\n",
       "    </tr>\n",
       "    <tr>\n",
       "      <th>β</th>\n",
       "      <td>13</td>\n",
       "      <td>1</td>\n",
       "      <td>7.318790e-06</td>\n",
       "      <td>17.059964</td>\n",
       "      <td>NNP</td>\n",
       "      <td>3</td>\n",
       "      <td>{VBD, NN, NNP}</td>\n",
       "    </tr>\n",
       "  </tbody>\n",
       "</table>\n",
       "<p>40080 rows × 7 columns</p>\n",
       "</div>"
      ],
      "text/plain": [
       "           n  n_chars             p          i max_pos  n_pos         cat_pos\n",
       "term_str                                                                     \n",
       "0          3        1  1.688951e-06  19.175441      CD      1            {CD}\n",
       "000436     1        6  5.629838e-07  20.760403     NNP      1           {NNP}\n",
       "016        1        3  5.629838e-07  20.760403      CD      1            {CD}\n",
       "05         1        2  5.629838e-07  20.760403      CD      1            {CD}\n",
       "092        1        3  5.629838e-07  20.760403      CD      1            {CD}\n",
       "...       ..      ...           ...        ...     ...    ...             ...\n",
       "épicier    2        7  1.125968e-06  19.760403      JJ      1            {JJ}\n",
       "ō          1        1  5.629838e-07  20.760403      NN      1            {NN}\n",
       "œdipus     1        6  5.629838e-07  20.760403      NN      1            {NN}\n",
       "α          1        1  5.629838e-07  20.760403     NNP      1           {NNP}\n",
       "β         13        1  7.318790e-06  17.059964     NNP      3  {VBD, NN, NNP}\n",
       "\n",
       "[40080 rows x 7 columns]"
      ]
     },
     "execution_count": 112,
     "metadata": {},
     "output_type": "execute_result"
    }
   ],
   "source": [
    "VOCAB"
   ]
  },
  {
   "cell_type": "code",
   "execution_count": 113,
   "metadata": {},
   "outputs": [],
   "source": [
    "# nltk.help.upenn_tagset()"
   ]
  },
  {
   "cell_type": "markdown",
   "metadata": {
    "colab_type": "text",
    "id": "US7EfWK_06FS"
   },
   "source": [
    "## Add Stopwords"
   ]
  },
  {
   "cell_type": "markdown",
   "metadata": {
    "colab_type": "text",
    "id": "BDCfFuN80_rX"
   },
   "source": [
    "We use NLTK's built in stopword list for English. Note that we can add and subtract from this list, or just create our own list and keep it in our data model."
   ]
  },
  {
   "cell_type": "code",
   "execution_count": 114,
   "metadata": {
    "colab": {},
    "colab_type": "code",
    "id": "RG-5qYDR1YC2"
   },
   "outputs": [],
   "source": [
    "sw = pd.DataFrame(nltk.corpus.stopwords.words('english'), columns=['term_str'])\n",
    "sw = sw.reset_index().set_index('term_str')\n",
    "sw.columns = ['dummy']\n",
    "sw.dummy = 1"
   ]
  },
  {
   "cell_type": "code",
   "execution_count": 115,
   "metadata": {
    "colab": {
     "base_uri": "https://localhost:8080/",
     "height": 1925
    },
    "colab_type": "code",
    "id": "8vtGY9V82scz",
    "outputId": "e7ef30c7-3a05-4acf-e2cc-9154f589bd91"
   },
   "outputs": [],
   "source": [
    "# sw.sample(10)"
   ]
  },
  {
   "cell_type": "code",
   "execution_count": 116,
   "metadata": {
    "colab": {},
    "colab_type": "code",
    "id": "cVJUOP9l2AS7"
   },
   "outputs": [],
   "source": [
    "VOCAB['stop'] = VOCAB.index.map(sw.dummy)\n",
    "VOCAB['stop'] = VOCAB['stop'].fillna(0).astype('int')"
   ]
  },
  {
   "cell_type": "code",
   "execution_count": 117,
   "metadata": {
    "colab": {
     "base_uri": "https://localhost:8080/",
     "height": 375
    },
    "colab_type": "code",
    "id": "QXcA9xyY4JF_",
    "outputId": "340d1dab-1901-4eeb-b9d8-a269eba90dea"
   },
   "outputs": [
    {
     "data": {
      "text/html": [
       "<div>\n",
       "<style scoped>\n",
       "    .dataframe tbody tr th:only-of-type {\n",
       "        vertical-align: middle;\n",
       "    }\n",
       "\n",
       "    .dataframe tbody tr th {\n",
       "        vertical-align: top;\n",
       "    }\n",
       "\n",
       "    .dataframe thead th {\n",
       "        text-align: right;\n",
       "    }\n",
       "</style>\n",
       "<table border=\"1\" class=\"dataframe\">\n",
       "  <thead>\n",
       "    <tr style=\"text-align: right;\">\n",
       "      <th></th>\n",
       "      <th>n</th>\n",
       "      <th>n_chars</th>\n",
       "      <th>p</th>\n",
       "      <th>i</th>\n",
       "      <th>max_pos</th>\n",
       "      <th>n_pos</th>\n",
       "      <th>cat_pos</th>\n",
       "      <th>stop</th>\n",
       "    </tr>\n",
       "    <tr>\n",
       "      <th>term_str</th>\n",
       "      <th></th>\n",
       "      <th></th>\n",
       "      <th></th>\n",
       "      <th></th>\n",
       "      <th></th>\n",
       "      <th></th>\n",
       "      <th></th>\n",
       "      <th></th>\n",
       "    </tr>\n",
       "  </thead>\n",
       "  <tbody>\n",
       "    <tr>\n",
       "      <th>yourself</th>\n",
       "      <td>160</td>\n",
       "      <td>8</td>\n",
       "      <td>0.000090</td>\n",
       "      <td>13.438475</td>\n",
       "      <td>PRP</td>\n",
       "      <td>10</td>\n",
       "      <td>{VBZ, VBP, NNS, NN, NNP, CC, PRP, RB, JJ, VB}</td>\n",
       "      <td>1</td>\n",
       "    </tr>\n",
       "    <tr>\n",
       "      <th>then</th>\n",
       "      <td>4740</td>\n",
       "      <td>4</td>\n",
       "      <td>0.002669</td>\n",
       "      <td>8.549732</td>\n",
       "      <td>RB</td>\n",
       "      <td>16</td>\n",
       "      <td>{VBZ, VBP, IN, WDT, PDT, NNS, NN, NNP, RP, CD,...</td>\n",
       "      <td>1</td>\n",
       "    </tr>\n",
       "    <tr>\n",
       "      <th>between</th>\n",
       "      <td>1240</td>\n",
       "      <td>7</td>\n",
       "      <td>0.000698</td>\n",
       "      <td>10.484279</td>\n",
       "      <td>IN</td>\n",
       "      <td>5</td>\n",
       "      <td>{IN, NN, NNP, JJ, VB}</td>\n",
       "      <td>1</td>\n",
       "    </tr>\n",
       "    <tr>\n",
       "      <th>over</th>\n",
       "      <td>2460</td>\n",
       "      <td>4</td>\n",
       "      <td>0.001385</td>\n",
       "      <td>9.495961</td>\n",
       "      <td>IN</td>\n",
       "      <td>15</td>\n",
       "      <td>{MD, VBZ, VBP, IN, RP, NN, NNP, NNS, PRP, RB, ...</td>\n",
       "      <td>1</td>\n",
       "    </tr>\n",
       "    <tr>\n",
       "      <th>from</th>\n",
       "      <td>7334</td>\n",
       "      <td>4</td>\n",
       "      <td>0.004129</td>\n",
       "      <td>7.920019</td>\n",
       "      <td>IN</td>\n",
       "      <td>9</td>\n",
       "      <td>{VBZ, VBP, IN, NNS, NN, NNP, RB, JJ, VB}</td>\n",
       "      <td>1</td>\n",
       "    </tr>\n",
       "    <tr>\n",
       "      <th>your</th>\n",
       "      <td>1709</td>\n",
       "      <td>4</td>\n",
       "      <td>0.000962</td>\n",
       "      <td>10.021467</td>\n",
       "      <td>PRP$</td>\n",
       "      <td>9</td>\n",
       "      <td>{CD, NN, NNP, NNS, PRP$, JJR, RB, JJ, MD}</td>\n",
       "      <td>1</td>\n",
       "    </tr>\n",
       "    <tr>\n",
       "      <th>as</th>\n",
       "      <td>11959</td>\n",
       "      <td>2</td>\n",
       "      <td>0.006733</td>\n",
       "      <td>7.214594</td>\n",
       "      <td>IN</td>\n",
       "      <td>16</td>\n",
       "      <td>{VBZ, VBP, IN, PDT, NNS, NN, NNP, RP, CC, POS,...</td>\n",
       "      <td>1</td>\n",
       "    </tr>\n",
       "    <tr>\n",
       "      <th>that</th>\n",
       "      <td>21564</td>\n",
       "      <td>4</td>\n",
       "      <td>0.012140</td>\n",
       "      <td>6.364066</td>\n",
       "      <td>IN</td>\n",
       "      <td>23</td>\n",
       "      <td>{NNP, RB, DT, VBP, IN, CD, JJ, PRP, UH, NNS, R...</td>\n",
       "      <td>1</td>\n",
       "    </tr>\n",
       "    <tr>\n",
       "      <th>when</th>\n",
       "      <td>3015</td>\n",
       "      <td>4</td>\n",
       "      <td>0.001697</td>\n",
       "      <td>9.202461</td>\n",
       "      <td>WRB</td>\n",
       "      <td>14</td>\n",
       "      <td>{VBZ, VBP, IN, PDT, VBG, RP, NN, NNP, WRB, RBR...</td>\n",
       "      <td>1</td>\n",
       "    </tr>\n",
       "    <tr>\n",
       "      <th>d</th>\n",
       "      <td>67</td>\n",
       "      <td>1</td>\n",
       "      <td>0.000038</td>\n",
       "      <td>14.694314</td>\n",
       "      <td>NN</td>\n",
       "      <td>5</td>\n",
       "      <td>{IN, NN, NNP, JJ, VB}</td>\n",
       "      <td>1</td>\n",
       "    </tr>\n",
       "  </tbody>\n",
       "</table>\n",
       "</div>"
      ],
      "text/plain": [
       "              n  n_chars         p          i max_pos  n_pos  \\\n",
       "term_str                                                       \n",
       "yourself    160        8  0.000090  13.438475     PRP     10   \n",
       "then       4740        4  0.002669   8.549732      RB     16   \n",
       "between    1240        7  0.000698  10.484279      IN      5   \n",
       "over       2460        4  0.001385   9.495961      IN     15   \n",
       "from       7334        4  0.004129   7.920019      IN      9   \n",
       "your       1709        4  0.000962  10.021467    PRP$      9   \n",
       "as        11959        2  0.006733   7.214594      IN     16   \n",
       "that      21564        4  0.012140   6.364066      IN     23   \n",
       "when       3015        4  0.001697   9.202461     WRB     14   \n",
       "d            67        1  0.000038  14.694314      NN      5   \n",
       "\n",
       "                                                    cat_pos  stop  \n",
       "term_str                                                           \n",
       "yourself      {VBZ, VBP, NNS, NN, NNP, CC, PRP, RB, JJ, VB}     1  \n",
       "then      {VBZ, VBP, IN, WDT, PDT, NNS, NN, NNP, RP, CD,...     1  \n",
       "between                               {IN, NN, NNP, JJ, VB}     1  \n",
       "over      {MD, VBZ, VBP, IN, RP, NN, NNP, NNS, PRP, RB, ...     1  \n",
       "from               {VBZ, VBP, IN, NNS, NN, NNP, RB, JJ, VB}     1  \n",
       "your              {CD, NN, NNP, NNS, PRP$, JJR, RB, JJ, MD}     1  \n",
       "as        {VBZ, VBP, IN, PDT, NNS, NN, NNP, RP, CC, POS,...     1  \n",
       "that      {NNP, RB, DT, VBP, IN, CD, JJ, PRP, UH, NNS, R...     1  \n",
       "when      {VBZ, VBP, IN, PDT, VBG, RP, NN, NNP, WRB, RBR...     1  \n",
       "d                                     {IN, NN, NNP, JJ, VB}     1  "
      ]
     },
     "execution_count": 117,
     "metadata": {},
     "output_type": "execute_result"
    }
   ],
   "source": [
    "VOCAB[VOCAB.stop == 1].sample(10)"
   ]
  },
  {
   "cell_type": "markdown",
   "metadata": {},
   "source": [
    "## Interlude: Stopword Stats"
   ]
  },
  {
   "cell_type": "code",
   "execution_count": 118,
   "metadata": {},
   "outputs": [],
   "source": [
    "a = VOCAB.groupby('stop').n_chars.mean()\n",
    "b = VOCAB.groupby('stop').n_pos.mean().sort_values(ascending=False)"
   ]
  },
  {
   "cell_type": "code",
   "execution_count": 119,
   "metadata": {},
   "outputs": [
    {
     "data": {
      "text/html": [
       "<div>\n",
       "<style scoped>\n",
       "    .dataframe tbody tr th:only-of-type {\n",
       "        vertical-align: middle;\n",
       "    }\n",
       "\n",
       "    .dataframe tbody tr th {\n",
       "        vertical-align: top;\n",
       "    }\n",
       "\n",
       "    .dataframe thead th {\n",
       "        text-align: right;\n",
       "    }\n",
       "</style>\n",
       "<table border=\"1\" class=\"dataframe\">\n",
       "  <thead>\n",
       "    <tr style=\"text-align: right;\">\n",
       "      <th></th>\n",
       "      <th>n_chars</th>\n",
       "      <th>n_pos</th>\n",
       "    </tr>\n",
       "    <tr>\n",
       "      <th>stop</th>\n",
       "      <th></th>\n",
       "      <th></th>\n",
       "    </tr>\n",
       "  </thead>\n",
       "  <tbody>\n",
       "    <tr>\n",
       "      <th>0</th>\n",
       "      <td>7.873229</td>\n",
       "      <td>1.880689</td>\n",
       "    </tr>\n",
       "    <tr>\n",
       "      <th>1</th>\n",
       "      <td>3.776119</td>\n",
       "      <td>10.873134</td>\n",
       "    </tr>\n",
       "  </tbody>\n",
       "</table>\n",
       "</div>"
      ],
      "text/plain": [
       "       n_chars      n_pos\n",
       "stop                     \n",
       "0     7.873229   1.880689\n",
       "1     3.776119  10.873134"
      ]
     },
     "execution_count": 119,
     "metadata": {},
     "output_type": "execute_result"
    }
   ],
   "source": [
    "pd.concat([a,b], 1)"
   ]
  },
  {
   "cell_type": "code",
   "execution_count": 120,
   "metadata": {},
   "outputs": [
    {
     "data": {
      "image/png": "[encoded data removed]",
      "text/plain": [
       "<Figure size 432x288 with 1 Axes>"
      ]
     },
     "metadata": {},
     "output_type": "display_data"
    }
   ],
   "source": [
    "VOCAB.groupby('n_chars').n_pos.mean()\\\n",
    "    .sort_values(ascending=False).plot(style='o');"
   ]
  },
  {
   "cell_type": "markdown",
   "metadata": {},
   "source": [
    "Curious that stopwords would have such variability."
   ]
  },
  {
   "cell_type": "code",
   "execution_count": 121,
   "metadata": {},
   "outputs": [
    {
     "data": {
      "text/html": [
       "<div>\n",
       "<style scoped>\n",
       "    .dataframe tbody tr th:only-of-type {\n",
       "        vertical-align: middle;\n",
       "    }\n",
       "\n",
       "    .dataframe tbody tr th {\n",
       "        vertical-align: top;\n",
       "    }\n",
       "\n",
       "    .dataframe thead th {\n",
       "        text-align: right;\n",
       "    }\n",
       "</style>\n",
       "<table border=\"1\" class=\"dataframe\">\n",
       "  <thead>\n",
       "    <tr style=\"text-align: right;\">\n",
       "      <th></th>\n",
       "      <th>n_pos</th>\n",
       "      <th>cat_pos</th>\n",
       "    </tr>\n",
       "    <tr>\n",
       "      <th>term_str</th>\n",
       "      <th></th>\n",
       "      <th></th>\n",
       "    </tr>\n",
       "  </thead>\n",
       "  <tbody>\n",
       "    <tr>\n",
       "      <th>that</th>\n",
       "      <td>23</td>\n",
       "      <td>{NNP, RB, DT, VBP, IN, CD, JJ, PRP, UH, NNS, R...</td>\n",
       "    </tr>\n",
       "    <tr>\n",
       "      <th>i</th>\n",
       "      <td>19</td>\n",
       "      <td>{NNP, RB, VBP, IN, CD, POS, JJ, PRP, NNS, JJR,...</td>\n",
       "    </tr>\n",
       "    <tr>\n",
       "      <th>me</th>\n",
       "      <td>19</td>\n",
       "      <td>{NNP, RB, VBP, IN, JJS, CD, JJ, PRP, NNS, FW, ...</td>\n",
       "    </tr>\n",
       "    <tr>\n",
       "      <th>no</th>\n",
       "      <td>18</td>\n",
       "      <td>{MD, UH, VBZ, VBP, IN, PDT, NNS, NN, NNP, CC, ...</td>\n",
       "    </tr>\n",
       "    <tr>\n",
       "      <th>on</th>\n",
       "      <td>18</td>\n",
       "      <td>{MD, VBZ, VBP, IN, PDT, RP, NN, NNS, NNP, CD, ...</td>\n",
       "    </tr>\n",
       "    <tr>\n",
       "      <th>here</th>\n",
       "      <td>18</td>\n",
       "      <td>{MD, VBZ, VBP, IN, PDT, NNS, NN, NNP, WRB, CD,...</td>\n",
       "    </tr>\n",
       "    <tr>\n",
       "      <th>but</th>\n",
       "      <td>17</td>\n",
       "      <td>{MD, VBZ, VBP, IN, PDT, NNS, NN, NNP, CC, RP, ...</td>\n",
       "    </tr>\n",
       "    <tr>\n",
       "      <th>we</th>\n",
       "      <td>17</td>\n",
       "      <td>{MD, VBZ, VBP, IN, WDT, WP, NNS, NN, NNP, CC, ...</td>\n",
       "    </tr>\n",
       "    <tr>\n",
       "      <th>once</th>\n",
       "      <td>17</td>\n",
       "      <td>{VBZ, VBP, IN, PDT, NNS, NN, NNP, RP, CC, JJR,...</td>\n",
       "    </tr>\n",
       "    <tr>\n",
       "      <th>now</th>\n",
       "      <td>17</td>\n",
       "      <td>{MD, VBZ, VBP, IN, PDT, NNS, NN, NNP, CC, PRP,...</td>\n",
       "    </tr>\n",
       "    <tr>\n",
       "      <th>is</th>\n",
       "      <td>17</td>\n",
       "      <td>{VBZ, VBP, IN, PDT, NNS, NN, NNP, CD, CC, POS,...</td>\n",
       "    </tr>\n",
       "    <tr>\n",
       "      <th>you</th>\n",
       "      <td>17</td>\n",
       "      <td>{VBZ, VBP, IN, PDT, NNS, NN, NNP, CC, CD, RP, ...</td>\n",
       "    </tr>\n",
       "    <tr>\n",
       "      <th>there</th>\n",
       "      <td>17</td>\n",
       "      <td>{MD, VBZ, VBP, IN, VBG, NNS, NN, NNP, RP, CD, ...</td>\n",
       "    </tr>\n",
       "    <tr>\n",
       "      <th>this</th>\n",
       "      <td>16</td>\n",
       "      <td>{VBZ, VBP, IN, PDT, VBG, NNS, NN, NNP, RP, RB,...</td>\n",
       "    </tr>\n",
       "    <tr>\n",
       "      <th>its</th>\n",
       "      <td>16</td>\n",
       "      <td>{MD, VBZ, VBP, IN, PDT, VBG, NNS, NN, NNP, CC,...</td>\n",
       "    </tr>\n",
       "    <tr>\n",
       "      <th>the</th>\n",
       "      <td>16</td>\n",
       "      <td>{VBZ, VBP, IN, NNS, NN, NNP, POS, CC, CD, PRP$...</td>\n",
       "    </tr>\n",
       "    <tr>\n",
       "      <th>then</th>\n",
       "      <td>16</td>\n",
       "      <td>{VBZ, VBP, IN, WDT, PDT, NNS, NN, NNP, RP, CD,...</td>\n",
       "    </tr>\n",
       "    <tr>\n",
       "      <th>them</th>\n",
       "      <td>16</td>\n",
       "      <td>{VBP, IN, PDT, VBG, NNS, NN, RP, NNP, CC, JJR,...</td>\n",
       "    </tr>\n",
       "    <tr>\n",
       "      <th>why</th>\n",
       "      <td>16</td>\n",
       "      <td>{MD, VBZ, VBP, IN, WP, NNS, NN, NNP, WRB, CC, ...</td>\n",
       "    </tr>\n",
       "    <tr>\n",
       "      <th>all</th>\n",
       "      <td>16</td>\n",
       "      <td>{VBZ, VBP, IN, PDT, VBG, RP, NN, NNP, NNS, RB,...</td>\n",
       "    </tr>\n",
       "  </tbody>\n",
       "</table>\n",
       "</div>"
      ],
      "text/plain": [
       "          n_pos                                            cat_pos\n",
       "term_str                                                          \n",
       "that         23  {NNP, RB, DT, VBP, IN, CD, JJ, PRP, UH, NNS, R...\n",
       "i            19  {NNP, RB, VBP, IN, CD, POS, JJ, PRP, NNS, JJR,...\n",
       "me           19  {NNP, RB, VBP, IN, JJS, CD, JJ, PRP, NNS, FW, ...\n",
       "no           18  {MD, UH, VBZ, VBP, IN, PDT, NNS, NN, NNP, CC, ...\n",
       "on           18  {MD, VBZ, VBP, IN, PDT, RP, NN, NNS, NNP, CD, ...\n",
       "here         18  {MD, VBZ, VBP, IN, PDT, NNS, NN, NNP, WRB, CD,...\n",
       "but          17  {MD, VBZ, VBP, IN, PDT, NNS, NN, NNP, CC, RP, ...\n",
       "we           17  {MD, VBZ, VBP, IN, WDT, WP, NNS, NN, NNP, CC, ...\n",
       "once         17  {VBZ, VBP, IN, PDT, NNS, NN, NNP, RP, CC, JJR,...\n",
       "now          17  {MD, VBZ, VBP, IN, PDT, NNS, NN, NNP, CC, PRP,...\n",
       "is           17  {VBZ, VBP, IN, PDT, NNS, NN, NNP, CD, CC, POS,...\n",
       "you          17  {VBZ, VBP, IN, PDT, NNS, NN, NNP, CC, CD, RP, ...\n",
       "there        17  {MD, VBZ, VBP, IN, VBG, NNS, NN, NNP, RP, CD, ...\n",
       "this         16  {VBZ, VBP, IN, PDT, VBG, NNS, NN, NNP, RP, RB,...\n",
       "its          16  {MD, VBZ, VBP, IN, PDT, VBG, NNS, NN, NNP, CC,...\n",
       "the          16  {VBZ, VBP, IN, NNS, NN, NNP, POS, CC, CD, PRP$...\n",
       "then         16  {VBZ, VBP, IN, WDT, PDT, NNS, NN, NNP, RP, CD,...\n",
       "them         16  {VBP, IN, PDT, VBG, NNS, NN, RP, NNP, CC, JJR,...\n",
       "why          16  {MD, VBZ, VBP, IN, WP, NNS, NN, NNP, WRB, CC, ...\n",
       "all          16  {VBZ, VBP, IN, PDT, VBG, RP, NN, NNP, NNS, RB,..."
      ]
     },
     "execution_count": 121,
     "metadata": {},
     "output_type": "execute_result"
    }
   ],
   "source": [
    "VOCAB[VOCAB.stop == True].sort_values('n_pos', ascending=False)[['n_pos','cat_pos']].head(20)"
   ]
  },
  {
   "cell_type": "markdown",
   "metadata": {},
   "source": [
    "Anyway . . ."
   ]
  },
  {
   "cell_type": "code",
   "execution_count": 122,
   "metadata": {},
   "outputs": [],
   "source": [
    "X = CORPUS.merge(LIB.reset_index()[['book_id','author']], on='book_id')\\\n",
    "    .merge(VOCAB.reset_index()[['term_str', 'stop']], on='term_str')\\\n",
    "    .groupby(['author','stop']).agg('sum').unstack()\n",
    "X.columns = X.columns.droplevel(0)"
   ]
  },
  {
   "cell_type": "code",
   "execution_count": 123,
   "metadata": {},
   "outputs": [
    {
     "data": {
      "text/html": [
       "<style  type=\"text/css\" >\n",
       "#T_5a6ba_row0_col0,#T_5a6ba_row1_col1{\n",
       "            background-color:  #023858;\n",
       "            color:  #f1f1f1;\n",
       "        }#T_5a6ba_row0_col1,#T_5a6ba_row1_col0{\n",
       "            background-color:  #fff7fb;\n",
       "            color:  #000000;\n",
       "        }</style><table id=\"T_5a6ba_\" ><thead>    <tr>        <th class=\"index_name level0\" >stop</th>        <th class=\"col_heading level0 col0\" >0</th>        <th class=\"col_heading level0 col1\" >1</th>    </tr>    <tr>        <th class=\"index_name level0\" >author</th>        <th class=\"blank\" ></th>        <th class=\"blank\" ></th>    </tr></thead><tbody>\n",
       "                <tr>\n",
       "                        <th id=\"T_5a6ba_level0_row0\" class=\"row_heading level0 row0\" >VERNE, JULES</th>\n",
       "                        <td id=\"T_5a6ba_row0_col0\" class=\"data row0 col0\" >0.504105</td>\n",
       "                        <td id=\"T_5a6ba_row0_col1\" class=\"data row0 col1\" >0.495895</td>\n",
       "            </tr>\n",
       "            <tr>\n",
       "                        <th id=\"T_5a6ba_level0_row1\" class=\"row_heading level0 row1\" >WELLS, H.G</th>\n",
       "                        <td id=\"T_5a6ba_row1_col0\" class=\"data row1 col0\" >0.497288</td>\n",
       "                        <td id=\"T_5a6ba_row1_col1\" class=\"data row1 col1\" >0.502712</td>\n",
       "            </tr>\n",
       "    </tbody></table>"
      ],
      "text/plain": [
       "<pandas.io.formats.style.Styler at 0x7fb51c0c2730>"
      ]
     },
     "execution_count": 123,
     "metadata": {},
     "output_type": "execute_result"
    }
   ],
   "source": [
    "(X.T / X.T.sum()).T.style.background_gradient()"
   ]
  },
  {
   "cell_type": "markdown",
   "metadata": {
    "colab_type": "text",
    "id": "bDSH9L2TXGzH"
   },
   "source": [
    "## Add Stems"
   ]
  },
  {
   "cell_type": "code",
   "execution_count": 124,
   "metadata": {
    "colab": {},
    "colab_type": "code",
    "id": "mE_YGklKXSYn"
   },
   "outputs": [],
   "source": [
    "#from nltk.stem.porter import PorterStemmer\n",
    "#stemmer1 = PorterStemmer()\n",
    "#VOCAB['stem_porter'] = VOCAB.apply(lambda x: stemmer1.stem(x.name), 1)\n",
    "\n",
    "#from nltk.stem.snowball import SnowballStemmer\n",
    "#stemmer2 = SnowballStemmer(\"english\")\n",
    "#VOCAB['stem_snowball'] = VOCAB.apply(lambda x: stemmer2.stem(x.name), 1)\n",
    "\n",
    "#from nltk.stem.lancaster import LancasterStemmer\n",
    "#stemmer3 = LancasterStemmer()\n",
    "#VOCAB['stem_lancaster'] = VOCAB.apply(lambda x: stemmer3.stem(x.name), 1)"
   ]
  },
  {
   "cell_type": "code",
   "execution_count": 125,
   "metadata": {
    "colab": {
     "base_uri": "https://localhost:8080/",
     "height": 375
    },
    "colab_type": "code",
    "id": "dY__Bq0yXqbj",
    "outputId": "eddcdafe-e378-4f7b-ac6b-1fc41ef64fbb"
   },
   "outputs": [],
   "source": [
    "#VOCAB.sample(10)"
   ]
  },
  {
   "cell_type": "code",
   "execution_count": 126,
   "metadata": {
    "colab": {
     "base_uri": "https://localhost:8080/",
     "height": 375
    },
    "colab_type": "code",
    "id": "dY__Bq0yXqbj",
    "outputId": "eddcdafe-e378-4f7b-ac6b-1fc41ef64fbb"
   },
   "outputs": [],
   "source": [
    "#VOCAB[VOCAB.stem_porter != VOCAB.stem_snowball]"
   ]
  },
  {
   "cell_type": "markdown",
   "metadata": {},
   "source": [
    "# Save"
   ]
  },
  {
   "cell_type": "code",
   "execution_count": 60,
   "metadata": {},
   "outputs": [],
   "source": [
    "out_path = f'{data_home}/output/{data_prefix}'"
   ]
  },
  {
   "cell_type": "code",
   "execution_count": 61,
   "metadata": {},
   "outputs": [],
   "source": [
    "LIB.to_csv(f'{out_path}-LIB.csv')\n",
    "VOCAB.to_csv(f'{out_path}-VOCAB.csv')\n",
    "CORPUS.to_csv(f'{out_path}-CORPUS.csv')"
   ]
  },
  {
   "cell_type": "code",
   "execution_count": null,
   "metadata": {},
   "outputs": [],
   "source": []
  }
 ],
 "metadata": {
  "colab": {
   "collapsed_sections": [],
   "name": "DS5559_Annotations.ipynb",
   "provenance": [],
   "toc_visible": true,
   "version": "0.3.2"
  },
  "kernelspec": {
   "display_name": "Python 3",
   "language": "python",
   "name": "python3"
  },
  "language_info": {
   "codemirror_mode": {
    "name": "ipython",
    "version": 3
   },
   "file_extension": ".py",
   "mimetype": "text/x-python",
   "name": "python",
   "nbconvert_exporter": "python",
   "pygments_lexer": "ipython3",
   "version": "3.8.8"
  },
  "latex_envs": {
   "LaTeX_envs_menu_present": true,
   "autoclose": false,
   "autocomplete": true,
   "bibliofile": "biblio.bib",
   "cite_by": "apalike",
   "current_citInitial": 1,
   "eqLabelWithNumbers": true,
   "eqNumInitial": 1,
   "hotkeys": {
    "equation": "Ctrl-E",
    "itemize": "Ctrl-I"
   },
   "labels_anchors": false,
   "latex_user_defs": false,
   "report_style_numbering": false,
   "user_envs_cfg": false
  },
  "toc": {
   "base_numbering": 1,
   "nav_menu": {},
   "number_sections": true,
   "sideBar": true,
   "skip_h1_title": true,
   "title_cell": "Table of Contents",
   "title_sidebar": "Contents",
   "toc_cell": false,
   "toc_position": {},
   "toc_section_display": true,
   "toc_window_display": true
  },
  "varInspector": {
   "cols": {
    "lenName": 16,
    "lenType": 16,
    "lenVar": 40
   },
   "kernels_config": {
    "python": {
     "delete_cmd_postfix": "",
     "delete_cmd_prefix": "del ",
     "library": "var_list.py",
     "varRefreshCmd": "print(var_dic_list())"
    },
    "r": {
     "delete_cmd_postfix": ") ",
     "delete_cmd_prefix": "rm(",
     "library": "var_list.r",
     "varRefreshCmd": "cat(var_dic_list()) "
    }
   },
   "types_to_exclude": [
    "module",
    "function",
    "builtin_function_or_method",
    "instance",
    "_Feature"
   ],
   "window_display": false
  },
  "widgets": {
   "application/vnd.jupyter.widget-state+json": {
    "state": {},
    "version_major": 2,
    "version_minor": 0
   }
  }
 },
 "nbformat": 4,
 "nbformat_minor": 4
}
